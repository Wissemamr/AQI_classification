{
 "cells": [
  {
   "cell_type": "code",
   "execution_count": 1,
   "metadata": {},
   "outputs": [
    {
     "data": {
      "text/html": [
       "<div>\n",
       "<style scoped>\n",
       "    .dataframe tbody tr th:only-of-type {\n",
       "        vertical-align: middle;\n",
       "    }\n",
       "\n",
       "    .dataframe tbody tr th {\n",
       "        vertical-align: top;\n",
       "    }\n",
       "\n",
       "    .dataframe thead th {\n",
       "        text-align: right;\n",
       "    }\n",
       "</style>\n",
       "<table border=\"1\" class=\"dataframe\">\n",
       "  <thead>\n",
       "    <tr style=\"text-align: right;\">\n",
       "      <th></th>\n",
       "      <th>Country</th>\n",
       "      <th>City</th>\n",
       "      <th>AQI Value</th>\n",
       "      <th>AQI Category</th>\n",
       "      <th>CO AQI Value</th>\n",
       "      <th>CO AQI Category</th>\n",
       "      <th>Ozone AQI Value</th>\n",
       "      <th>Ozone AQI Category</th>\n",
       "      <th>NO2 AQI Value</th>\n",
       "      <th>NO2 AQI Category</th>\n",
       "      <th>PM2.5 AQI Value</th>\n",
       "      <th>PM2.5 AQI Category</th>\n",
       "      <th>lat</th>\n",
       "      <th>lng</th>\n",
       "    </tr>\n",
       "  </thead>\n",
       "  <tbody>\n",
       "    <tr>\n",
       "      <th>0</th>\n",
       "      <td>130</td>\n",
       "      <td>10126</td>\n",
       "      <td>51</td>\n",
       "      <td>2</td>\n",
       "      <td>1</td>\n",
       "      <td>0</td>\n",
       "      <td>36</td>\n",
       "      <td>0</td>\n",
       "      <td>0</td>\n",
       "      <td>0</td>\n",
       "      <td>51</td>\n",
       "      <td>2</td>\n",
       "      <td>44.7444</td>\n",
       "      <td>44.2031</td>\n",
       "    </tr>\n",
       "    <tr>\n",
       "      <th>1</th>\n",
       "      <td>22</td>\n",
       "      <td>10140</td>\n",
       "      <td>41</td>\n",
       "      <td>0</td>\n",
       "      <td>1</td>\n",
       "      <td>0</td>\n",
       "      <td>5</td>\n",
       "      <td>0</td>\n",
       "      <td>1</td>\n",
       "      <td>0</td>\n",
       "      <td>41</td>\n",
       "      <td>0</td>\n",
       "      <td>-5.2900</td>\n",
       "      <td>-44.4900</td>\n",
       "    </tr>\n",
       "    <tr>\n",
       "      <th>2</th>\n",
       "      <td>75</td>\n",
       "      <td>10163</td>\n",
       "      <td>66</td>\n",
       "      <td>2</td>\n",
       "      <td>1</td>\n",
       "      <td>0</td>\n",
       "      <td>39</td>\n",
       "      <td>0</td>\n",
       "      <td>2</td>\n",
       "      <td>0</td>\n",
       "      <td>66</td>\n",
       "      <td>2</td>\n",
       "      <td>37.1667</td>\n",
       "      <td>15.1833</td>\n",
       "    </tr>\n",
       "    <tr>\n",
       "      <th>3</th>\n",
       "      <td>123</td>\n",
       "      <td>10185</td>\n",
       "      <td>34</td>\n",
       "      <td>0</td>\n",
       "      <td>1</td>\n",
       "      <td>0</td>\n",
       "      <td>34</td>\n",
       "      <td>0</td>\n",
       "      <td>0</td>\n",
       "      <td>0</td>\n",
       "      <td>20</td>\n",
       "      <td>0</td>\n",
       "      <td>53.0167</td>\n",
       "      <td>20.8833</td>\n",
       "    </tr>\n",
       "    <tr>\n",
       "      <th>4</th>\n",
       "      <td>166</td>\n",
       "      <td>10243</td>\n",
       "      <td>54</td>\n",
       "      <td>2</td>\n",
       "      <td>1</td>\n",
       "      <td>0</td>\n",
       "      <td>14</td>\n",
       "      <td>0</td>\n",
       "      <td>11</td>\n",
       "      <td>0</td>\n",
       "      <td>54</td>\n",
       "      <td>2</td>\n",
       "      <td>16.1005</td>\n",
       "      <td>-88.8074</td>\n",
       "    </tr>\n",
       "  </tbody>\n",
       "</table>\n",
       "</div>"
      ],
      "text/plain": [
       "   Country   City  AQI Value  AQI Category  CO AQI Value  CO AQI Category  \\\n",
       "0      130  10126         51             2             1                0   \n",
       "1       22  10140         41             0             1                0   \n",
       "2       75  10163         66             2             1                0   \n",
       "3      123  10185         34             0             1                0   \n",
       "4      166  10243         54             2             1                0   \n",
       "\n",
       "   Ozone AQI Value  Ozone AQI Category  NO2 AQI Value  NO2 AQI Category  \\\n",
       "0               36                   0              0                 0   \n",
       "1                5                   0              1                 0   \n",
       "2               39                   0              2                 0   \n",
       "3               34                   0              0                 0   \n",
       "4               14                   0             11                 0   \n",
       "\n",
       "   PM2.5 AQI Value  PM2.5 AQI Category      lat      lng  \n",
       "0               51                   2  44.7444  44.2031  \n",
       "1               41                   0  -5.2900 -44.4900  \n",
       "2               66                   2  37.1667  15.1833  \n",
       "3               20                   0  53.0167  20.8833  \n",
       "4               54                   2  16.1005 -88.8074  "
      ]
     },
     "execution_count": 1,
     "metadata": {},
     "output_type": "execute_result"
    }
   ],
   "source": [
    "import pandas as pd\n",
    "\n",
    "df = pd.read_csv(\"../../data/preprocessed_AQI_data.csv\")\n",
    "df.head()"
   ]
  },
  {
   "cell_type": "code",
   "execution_count": 2,
   "metadata": {},
   "outputs": [
    {
     "name": "stdout",
     "output_type": "stream",
     "text": [
      "(2845, 13) (11384, 13)\n",
      "(2845,) (11384,)\n"
     ]
    }
   ],
   "source": [
    "from sklearn.model_selection import train_test_split\n",
    "\n",
    "# shuffle the data before splitting\n",
    "df_shuffled = df.sample(frac=1, random_state=19)\n",
    "X = df_shuffled.drop([\"AQI Category\"], axis=1)\n",
    "y = df_shuffled[\"AQI Category\"]\n",
    "X_train, X_test, y_train, y_test = train_test_split(\n",
    "    X, y, test_size=0.8, random_state=22\n",
    ")\n",
    "print(X_train.shape, X_test.shape)\n",
    "print(y_train.shape, y_test.shape)"
   ]
  },
  {
   "cell_type": "code",
   "execution_count": 3,
   "metadata": {},
   "outputs": [],
   "source": [
    "from sklearn.linear_model import LogisticRegression\n",
    "from sklearn.metrics import classification_report"
   ]
  },
  {
   "cell_type": "code",
   "execution_count": 4,
   "metadata": {},
   "outputs": [],
   "source": [
    "lgr = LogisticRegression(max_iter=1000)"
   ]
  },
  {
   "cell_type": "code",
   "execution_count": 5,
   "metadata": {},
   "outputs": [
    {
     "name": "stdout",
     "output_type": "stream",
     "text": [
      "              precision    recall  f1-score   support\n",
      "\n",
      "           0       0.85      0.82      0.84      5301\n",
      "           1       0.17      0.39      0.24        41\n",
      "           2       0.76      0.76      0.76      4741\n",
      "           3       0.38      0.61      0.47       618\n",
      "           4       0.31      0.16      0.21       588\n",
      "           5       0.09      0.09      0.09        95\n",
      "\n",
      "    accuracy                           0.74     11384\n",
      "   macro avg       0.43      0.47      0.43     11384\n",
      "weighted avg       0.75      0.74      0.74     11384\n",
      "\n"
     ]
    },
    {
     "name": "stderr",
     "output_type": "stream",
     "text": [
      "/home/wissem/.local/lib/python3.10/site-packages/sklearn/linear_model/_logistic.py:469: ConvergenceWarning: lbfgs failed to converge (status=1):\n",
      "STOP: TOTAL NO. of ITERATIONS REACHED LIMIT.\n",
      "\n",
      "Increase the number of iterations (max_iter) or scale the data as shown in:\n",
      "    https://scikit-learn.org/stable/modules/preprocessing.html\n",
      "Please also refer to the documentation for alternative solver options:\n",
      "    https://scikit-learn.org/stable/modules/linear_model.html#logistic-regression\n",
      "  n_iter_i = _check_optimize_result(\n"
     ]
    }
   ],
   "source": [
    "lgr.fit(X_train, y_train)\n",
    "y_pred = lgr.predict(X_test)\n",
    "print(classification_report(y_test, y_pred))"
   ]
  },
  {
   "cell_type": "code",
   "execution_count": 6,
   "metadata": {},
   "outputs": [],
   "source": [
    "from sklearn.model_selection import GridSearchCV\n",
    "\n",
    "# hyperparams tuning\n",
    "param_grid = {\n",
    "    \"C\": [0.001, 0.01, 0.1, 1],\n",
    "    \"penalty\": [\"l1\", \"l2\"],\n",
    "    \"solver\": [\"liblinear\", \"saga\"],\n",
    "    \"max_iter\": [100, 200, 500],\n",
    "}\n",
    "\n",
    "\n",
    "# grid_search = GridSearchCV(estimator=LogisticRegression(), param_grid=param_grid, cv=5)\n",
    "# grid_search.fit(X_train, y_train)\n",
    "\n",
    "# # Get the best parameters\n",
    "# best_params = grid_search.best_params_\n",
    "# print(\"Best Parameters:\", best_params)\n",
    "\n",
    "# # Use the best model\n",
    "# best_model = grid_search.best_estimator_"
   ]
  },
  {
   "cell_type": "markdown",
   "metadata": {},
   "source": [
    "Best Parameters: {'C': 1, 'max_iter': 100, 'penalty': 'l1', 'solver': 'liblinear'}"
   ]
  },
  {
   "cell_type": "code",
   "execution_count": 7,
   "metadata": {},
   "outputs": [],
   "source": [
    "from sklearn.preprocessing import StandardScaler\n",
    "\n",
    "# ss = StandardScaler()\n",
    "# X_train_scaled = ss.fit_transform(X_train)\n",
    "# X_test_scaled = ss.transform(X_test)\n",
    "# scaling here does not do anything"
   ]
  },
  {
   "cell_type": "code",
   "execution_count": 8,
   "metadata": {},
   "outputs": [
    {
     "name": "stdout",
     "output_type": "stream",
     "text": [
      "              precision    recall  f1-score   support\n",
      "\n",
      "           0       1.00      1.00      1.00      5301\n",
      "           1       1.00      0.73      0.85        41\n",
      "           2       0.97      1.00      0.98      4741\n",
      "           3       0.88      0.97      0.92       618\n",
      "           4       0.96      0.78      0.86       588\n",
      "           5       0.94      0.16      0.27        95\n",
      "\n",
      "    accuracy                           0.98     11384\n",
      "   macro avg       0.96      0.77      0.81     11384\n",
      "weighted avg       0.98      0.98      0.98     11384\n",
      "\n"
     ]
    }
   ],
   "source": [
    "lgr_ = LogisticRegression(max_iter=100, C=1, penalty=\"l1\", solver=\"liblinear\")\n",
    "lgr_.fit(X_train, y_train)\n",
    "y_pred = lgr_.predict(X_test)\n",
    "print(classification_report(y_test, y_pred))"
   ]
  },
  {
   "cell_type": "code",
   "execution_count": 13,
   "metadata": {},
   "outputs": [
    {
     "name": "stdout",
     "output_type": "stream",
     "text": [
      "F1 scores: [0.96079412 0.97821077 0.96611075 0.97016853 0.97547874]\n",
      "F1 mean: 0.9702 \n",
      "\n",
      "Precision scores: [0.96435434 0.98146349 0.96955547 0.97538692 0.97908723]\n",
      "Precision mean: 0.974 \n",
      "\n",
      "Accuracy scores: [0.96485062 0.98066784 0.96660808 0.97363796 0.97891037]\n",
      "Accuracy mean: 0.9729 \n",
      "\n",
      "Recall scores: [0.96660808 0.98066784 0.96836555 0.97188049 0.97891037]\n",
      "Recall mean: 0.9733 \n",
      "\n"
     ]
    }
   ],
   "source": [
    "from sklearn.model_selection import cross_val_score\n",
    "from sklearn.metrics import (\n",
    "    make_scorer,\n",
    "    f1_score,\n",
    "    precision_score,\n",
    "    recall_score,\n",
    "    accuracy_score,\n",
    ")\n",
    "\n",
    "# here we define different scorers metrics\n",
    "scorer_f1 = make_scorer(f1_score, average=\"weighted\")\n",
    "scorer_precision = make_scorer(precision_score, average=\"weighted\", zero_division=1)\n",
    "scorer_recall = make_scorer(recall_score, average=\"weighted\")\n",
    "scorer_accuracy = make_scorer(accuracy_score)\n",
    "\n",
    "# we save them in a dict for easier accessing\n",
    "scorers = {\n",
    "    \"f1\": scorer_f1,\n",
    "    \"precision\": scorer_precision,\n",
    "    \"accuracy\": scorer_accuracy,\n",
    "    \"recall\": scorer_recall,\n",
    "}\n",
    "scores_results: dict = {}\n",
    "for scorer_name, scorer in scorers.items():\n",
    "    scores = cross_val_score(lgr_, X_train, y_train, cv=5, scoring=scorer)\n",
    "    print(f\"{scorer_name.capitalize()} scores:\", scores)\n",
    "    scores_results[scorer_name] = round(scores.mean(), 4)\n",
    "    print(f\"{scorer_name.capitalize()} mean:\", round(scores.mean(), 4), \"\\n\")"
   ]
  },
  {
   "cell_type": "code",
   "execution_count": 14,
   "metadata": {},
   "outputs": [
    {
     "data": {
      "text/html": [
       "<div>\n",
       "<style scoped>\n",
       "    .dataframe tbody tr th:only-of-type {\n",
       "        vertical-align: middle;\n",
       "    }\n",
       "\n",
       "    .dataframe tbody tr th {\n",
       "        vertical-align: top;\n",
       "    }\n",
       "\n",
       "    .dataframe thead th {\n",
       "        text-align: right;\n",
       "    }\n",
       "</style>\n",
       "<table border=\"1\" class=\"dataframe\">\n",
       "  <thead>\n",
       "    <tr style=\"text-align: right;\">\n",
       "      <th></th>\n",
       "      <th>Scores</th>\n",
       "    </tr>\n",
       "  </thead>\n",
       "  <tbody>\n",
       "    <tr>\n",
       "      <th>f1</th>\n",
       "      <td>0.9702</td>\n",
       "    </tr>\n",
       "    <tr>\n",
       "      <th>precision</th>\n",
       "      <td>0.9740</td>\n",
       "    </tr>\n",
       "    <tr>\n",
       "      <th>accuracy</th>\n",
       "      <td>0.9729</td>\n",
       "    </tr>\n",
       "    <tr>\n",
       "      <th>recall</th>\n",
       "      <td>0.9733</td>\n",
       "    </tr>\n",
       "  </tbody>\n",
       "</table>\n",
       "</div>"
      ],
      "text/plain": [
       "           Scores\n",
       "f1         0.9702\n",
       "precision  0.9740\n",
       "accuracy   0.9729\n",
       "recall     0.9733"
      ]
     },
     "execution_count": 14,
     "metadata": {},
     "output_type": "execute_result"
    }
   ],
   "source": [
    "import pandas as pd\n",
    "\n",
    "scores_df = pd.DataFrame.from_dict(scores_results, orient=\"index\", columns=[\"Scores\"])\n",
    "scores_df"
   ]
  },
  {
   "cell_type": "code",
   "execution_count": 11,
   "metadata": {},
   "outputs": [],
   "source": [
    "from sklearn.metrics import confusion_matrix\n",
    "import matplotlib.pyplot as plt\n",
    "import seaborn as sns"
   ]
  },
  {
   "cell_type": "code",
   "execution_count": 12,
   "metadata": {},
   "outputs": [
    {
     "data": {
      "image/png": "[encoded data removed]",
      "text/plain": [
       "<Figure size 800x600 with 2 Axes>"
      ]
     },
     "metadata": {},
     "output_type": "display_data"
    }
   ],
   "source": [
    "conf_matrix = confusion_matrix(y_pred, y_test)\n",
    "# Plot confusion matrix\n",
    "plt.figure(figsize=(8, 6))\n",
    "labels = [\"Class 0\", \"Class 1\", \"Class 2\", \"Class 3\", \"Class 4\", \"Class 5\"]\n",
    "sns.heatmap(\n",
    "    conf_matrix,\n",
    "    annot=True,\n",
    "    fmt=\"d\",\n",
    "    cmap=\"Blues\",\n",
    "    xticklabels=labels,\n",
    "    yticklabels=labels,\n",
    ")\n",
    "plt.xlabel(\"Predicted labels\")\n",
    "plt.ylabel(\"True labels\")\n",
    "plt.title(\"Confusion Matrix\")\n",
    "plt.show()"
   ]
  },
  {
   "cell_type": "code",
   "execution_count": null,
   "metadata": {},
   "outputs": [],
   "source": []
  },
  {
   "cell_type": "markdown",
   "metadata": {},
   "source": [
    "Now let's try resampling and test if we get slighlty better results"
   ]
  },
  {
   "cell_type": "code",
   "execution_count": 15,
   "metadata": {},
   "outputs": [],
   "source": [
    "from imblearn.over_sampling import SMOTE\n",
    "from sklearn.metrics import classification_report"
   ]
  },
  {
   "cell_type": "code",
   "execution_count": 18,
   "metadata": {},
   "outputs": [
    {
     "name": "stdout",
     "output_type": "stream",
     "text": [
      "AQI Category\n",
      "0    1369\n",
      "2    1369\n",
      "3    1369\n",
      "5    1369\n",
      "4    1369\n",
      "1    1369\n",
      "Name: count, dtype: int64\n"
     ]
    }
   ],
   "source": [
    "# applying smote oversampling for the minority class\n",
    "smote = SMOTE(random_state=0)\n",
    "X_train_resampled, y_train_resampled = smote.fit_resample(X_train, y_train)\n",
    "\n",
    "print(y_train_resampled.value_counts())"
   ]
  },
  {
   "cell_type": "code",
   "execution_count": 24,
   "metadata": {},
   "outputs": [
    {
     "data": {
      "image/png": "[encoded data removed]",
      "text/plain": [
       "<Figure size 800x600 with 1 Axes>"
      ]
     },
     "metadata": {},
     "output_type": "display_data"
    }
   ],
   "source": [
    "import numpy as np\n",
    "\n",
    "unique_classes, class_counts = np.unique(y_train_resampled, return_counts=True)\n",
    "\n",
    "plt.figure(figsize=(8, 6))\n",
    "plt.bar(unique_classes, class_counts, color=\"navy\", alpha=0.5)\n",
    "plt.title(\"Target Variable Distribution After SMOTE Oversampling\")\n",
    "plt.xlabel(\"AQI Category\")\n",
    "plt.ylabel(\"Count\")\n",
    "plt.xticks(unique_classes)\n",
    "plt.grid(axis=\"y\", linestyle=\"--\", alpha=0.7)\n",
    "plt.show()"
   ]
  },
  {
   "cell_type": "code",
   "execution_count": 25,
   "metadata": {},
   "outputs": [],
   "source": [
    "lgr_.fit(X_train_resampled, y_train_resampled)\n",
    "\n",
    "# Predict on the test set\n",
    "y_pred = lgr_.predict(X_test)"
   ]
  },
  {
   "cell_type": "code",
   "execution_count": 26,
   "metadata": {},
   "outputs": [
    {
     "name": "stdout",
     "output_type": "stream",
     "text": [
      "              precision    recall  f1-score   support\n",
      "\n",
      "           0       1.00      1.00      1.00      5301\n",
      "           1       1.00      0.78      0.88        41\n",
      "           2       1.00      0.88      0.94      4741\n",
      "           3       0.50      0.88      0.64       618\n",
      "           4       0.90      0.97      0.93       588\n",
      "           5       0.63      0.97      0.76        95\n",
      "\n",
      "    accuracy                           0.94     11384\n",
      "   macro avg       0.84      0.91      0.86     11384\n",
      "weighted avg       0.96      0.94      0.95     11384\n",
      "\n"
     ]
    }
   ],
   "source": [
    "print(classification_report(y_test, y_pred))"
   ]
  },
  {
   "cell_type": "markdown",
   "metadata": {},
   "source": [
    "As we can see, the metrics do not imporve with resampling"
   ]
  }
 ],
 "metadata": {
  "kernelspec": {
   "display_name": "Python 3",
   "language": "python",
   "name": "python3"
  },
  "language_info": {
   "codemirror_mode": {
    "name": "ipython",
    "version": 3
   },
   "file_extension": ".py",
   "mimetype": "text/x-python",
   "name": "python",
   "nbconvert_exporter": "python",
   "pygments_lexer": "ipython3",
   "version": "3.10.12"
  }
 },
 "nbformat": 4,
 "nbformat_minor": 2
}
