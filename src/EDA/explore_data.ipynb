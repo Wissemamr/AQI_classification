{
 "cells": [
  {
   "cell_type": "markdown",
   "metadata": {},
   "source": [
    "## Exploring our dataset :\n",
    "\n",
    "In this part of the project, we will get more familair wiht our data, perform data wrangling and exploratory data analysis as grasping the intricacies of our data is crucial to eventually perform the differnt classification algortihms.\n",
    "### Polars Library :\n",
    "To handle our data efficiently, we will be using Polars which is a DataFrame library completely written in Rust and is built to empower Python developers with a scalable and efficient framework for handling data and is considered as an alternative to the very popular pandas library. It provides a wide range of functionalities that facilitate various data manipulation and analysis tasks. Some of the key features and advantages of using Polars include:\n",
    "- Speed and performance\n",
    "- Data manipulation capabilities\n",
    "- Expressive syntax\n",
    "- Polars support lazy evaluation\n",
    "\n",
    "\n",
    "### Why choose Polars when we have Pandas ?\n",
    "\n",
    "pandas, a widely adopted library, is known for its flexibility and ease of use. However, when dealing with large datasets, Pandas can suffer from performance bottlenecks due to its reliance on single-threaded execution. As the dataset size increases, processing times can become prohibitively long, limiting productivity.\n",
    "\n",
    "Polars has been specifically designed to handle large datasets efficiently. With its lazy evaluation strategy and parallel execution capabilities, Polars excels at processing substantial amounts of data swiftly. By distributing computations across multiple CPU cores, Polars leverages parallelism to deliver impressive performance gains. See the speed comparison test between Pandas and Polars by Yuki.\n",
    "\n",
    "\n",
    "**Polars documentation  :** <https://docs.pola.rs> "
   ]
  },
  {
   "cell_type": "code",
   "execution_count": 24,
   "metadata": {},
   "outputs": [
    {
     "name": "stdout",
     "output_type": "stream",
     "text": [
      "Defaulting to user installation because normal site-packages is not writeable\n",
      "Requirement already satisfied: polars in /home/wissem/.local/lib/python3.10/site-packages (0.20.18)\n",
      "Note: you may need to restart the kernel to use updated packages.\n"
     ]
    }
   ],
   "source": [
    "%pip install polars"
   ]
  },
  {
   "cell_type": "code",
   "execution_count": 25,
   "metadata": {},
   "outputs": [
    {
     "name": "stdout",
     "output_type": "stream",
     "text": [
      "[POLLARS VERSION] == 0.20.18\n"
     ]
    }
   ],
   "source": [
    "import polars as pl\n",
    "print(f'[POLLARS VERSION] == {pl.__version__}')"
   ]
  },
  {
   "cell_type": "code",
   "execution_count": 26,
   "metadata": {},
   "outputs": [
    {
     "data": {
      "text/html": [
       "<div><style>\n",
       ".dataframe > thead > tr,\n",
       ".dataframe > tbody > tr {\n",
       "  text-align: right;\n",
       "  white-space: pre-wrap;\n",
       "}\n",
       "</style>\n",
       "<small>shape: (16_695, 14)</small><table border=\"1\" class=\"dataframe\"><thead><tr><th>Country</th><th>City</th><th>AQI Value</th><th>AQI Category</th><th>CO AQI Value</th><th>CO AQI Category</th><th>Ozone AQI Value</th><th>Ozone AQI Category</th><th>NO2 AQI Value</th><th>NO2 AQI Category</th><th>PM2.5 AQI Value</th><th>PM2.5 AQI Category</th><th>lat</th><th>lng</th></tr><tr><td>str</td><td>str</td><td>i64</td><td>str</td><td>i64</td><td>str</td><td>i64</td><td>str</td><td>i64</td><td>str</td><td>i64</td><td>str</td><td>f64</td><td>f64</td></tr></thead><tbody><tr><td>&quot;Russian Federa…</td><td>&quot;Praskoveya&quot;</td><td>51</td><td>&quot;Moderate&quot;</td><td>1</td><td>&quot;Good&quot;</td><td>36</td><td>&quot;Good&quot;</td><td>0</td><td>&quot;Good&quot;</td><td>51</td><td>&quot;Moderate&quot;</td><td>44.7444</td><td>44.2031</td></tr><tr><td>&quot;Brazil&quot;</td><td>&quot;Presidente Dut…</td><td>41</td><td>&quot;Good&quot;</td><td>1</td><td>&quot;Good&quot;</td><td>5</td><td>&quot;Good&quot;</td><td>1</td><td>&quot;Good&quot;</td><td>41</td><td>&quot;Good&quot;</td><td>-5.29</td><td>-44.49</td></tr><tr><td>&quot;Brazil&quot;</td><td>&quot;Presidente Dut…</td><td>41</td><td>&quot;Good&quot;</td><td>1</td><td>&quot;Good&quot;</td><td>5</td><td>&quot;Good&quot;</td><td>1</td><td>&quot;Good&quot;</td><td>41</td><td>&quot;Good&quot;</td><td>-11.2958</td><td>-41.9869</td></tr><tr><td>&quot;Italy&quot;</td><td>&quot;Priolo Gargall…</td><td>66</td><td>&quot;Moderate&quot;</td><td>1</td><td>&quot;Good&quot;</td><td>39</td><td>&quot;Good&quot;</td><td>2</td><td>&quot;Good&quot;</td><td>66</td><td>&quot;Moderate&quot;</td><td>37.1667</td><td>15.1833</td></tr><tr><td>&quot;Poland&quot;</td><td>&quot;Przasnysz&quot;</td><td>34</td><td>&quot;Good&quot;</td><td>1</td><td>&quot;Good&quot;</td><td>34</td><td>&quot;Good&quot;</td><td>0</td><td>&quot;Good&quot;</td><td>20</td><td>&quot;Good&quot;</td><td>53.0167</td><td>20.8833</td></tr><tr><td>&hellip;</td><td>&hellip;</td><td>&hellip;</td><td>&hellip;</td><td>&hellip;</td><td>&hellip;</td><td>&hellip;</td><td>&hellip;</td><td>&hellip;</td><td>&hellip;</td><td>&hellip;</td><td>&hellip;</td><td>&hellip;</td><td>&hellip;</td></tr><tr><td>&quot;United States …</td><td>&quot;Highland Sprin…</td><td>54</td><td>&quot;Moderate&quot;</td><td>1</td><td>&quot;Good&quot;</td><td>34</td><td>&quot;Good&quot;</td><td>5</td><td>&quot;Good&quot;</td><td>54</td><td>&quot;Moderate&quot;</td><td>37.5516</td><td>-77.3285</td></tr><tr><td>&quot;Slovakia&quot;</td><td>&quot;Martin&quot;</td><td>71</td><td>&quot;Moderate&quot;</td><td>1</td><td>&quot;Good&quot;</td><td>39</td><td>&quot;Good&quot;</td><td>1</td><td>&quot;Good&quot;</td><td>71</td><td>&quot;Moderate&quot;</td><td>49.065</td><td>18.9219</td></tr><tr><td>&quot;Slovakia&quot;</td><td>&quot;Martin&quot;</td><td>71</td><td>&quot;Moderate&quot;</td><td>1</td><td>&quot;Good&quot;</td><td>39</td><td>&quot;Good&quot;</td><td>1</td><td>&quot;Good&quot;</td><td>71</td><td>&quot;Moderate&quot;</td><td>36.3385</td><td>-88.8513</td></tr><tr><td>&quot;France&quot;</td><td>&quot;Sceaux&quot;</td><td>50</td><td>&quot;Good&quot;</td><td>1</td><td>&quot;Good&quot;</td><td>20</td><td>&quot;Good&quot;</td><td>5</td><td>&quot;Good&quot;</td><td>50</td><td>&quot;Good&quot;</td><td>48.7786</td><td>2.2906</td></tr><tr><td>&quot;United States …</td><td>&quot;Westerville&quot;</td><td>71</td><td>&quot;Moderate&quot;</td><td>1</td><td>&quot;Good&quot;</td><td>44</td><td>&quot;Good&quot;</td><td>2</td><td>&quot;Good&quot;</td><td>71</td><td>&quot;Moderate&quot;</td><td>40.1241</td><td>-82.921</td></tr></tbody></table></div>"
      ],
      "text/plain": [
       "shape: (16_695, 14)\n",
       "┌────────────┬───────────┬───────────┬───────────┬───┬───────────┬───────────┬──────────┬──────────┐\n",
       "│ Country    ┆ City      ┆ AQI Value ┆ AQI       ┆ … ┆ PM2.5 AQI ┆ PM2.5 AQI ┆ lat      ┆ lng      │\n",
       "│ ---        ┆ ---       ┆ ---       ┆ Category  ┆   ┆ Value     ┆ Category  ┆ ---      ┆ ---      │\n",
       "│ str        ┆ str       ┆ i64       ┆ ---       ┆   ┆ ---       ┆ ---       ┆ f64      ┆ f64      │\n",
       "│            ┆           ┆           ┆ str       ┆   ┆ i64       ┆ str       ┆          ┆          │\n",
       "╞════════════╪═══════════╪═══════════╪═══════════╪═══╪═══════════╪═══════════╪══════════╪══════════╡\n",
       "│ Russian    ┆ Praskovey ┆ 51        ┆ Moderate  ┆ … ┆ 51        ┆ Moderate  ┆ 44.7444  ┆ 44.2031  │\n",
       "│ Federation ┆ a         ┆           ┆           ┆   ┆           ┆           ┆          ┆          │\n",
       "│ Brazil     ┆ President ┆ 41        ┆ Good      ┆ … ┆ 41        ┆ Good      ┆ -5.29    ┆ -44.49   │\n",
       "│            ┆ e Dutra   ┆           ┆           ┆   ┆           ┆           ┆          ┆          │\n",
       "│ Brazil     ┆ President ┆ 41        ┆ Good      ┆ … ┆ 41        ┆ Good      ┆ -11.2958 ┆ -41.9869 │\n",
       "│            ┆ e Dutra   ┆           ┆           ┆   ┆           ┆           ┆          ┆          │\n",
       "│ Italy      ┆ Priolo    ┆ 66        ┆ Moderate  ┆ … ┆ 66        ┆ Moderate  ┆ 37.1667  ┆ 15.1833  │\n",
       "│            ┆ Gargallo  ┆           ┆           ┆   ┆           ┆           ┆          ┆          │\n",
       "│ Poland     ┆ Przasnysz ┆ 34        ┆ Good      ┆ … ┆ 20        ┆ Good      ┆ 53.0167  ┆ 20.8833  │\n",
       "│ …          ┆ …         ┆ …         ┆ …         ┆ … ┆ …         ┆ …         ┆ …        ┆ …        │\n",
       "│ United     ┆ Highland  ┆ 54        ┆ Moderate  ┆ … ┆ 54        ┆ Moderate  ┆ 37.5516  ┆ -77.3285 │\n",
       "│ States of  ┆ Springs   ┆           ┆           ┆   ┆           ┆           ┆          ┆          │\n",
       "│ America    ┆           ┆           ┆           ┆   ┆           ┆           ┆          ┆          │\n",
       "│ Slovakia   ┆ Martin    ┆ 71        ┆ Moderate  ┆ … ┆ 71        ┆ Moderate  ┆ 49.065   ┆ 18.9219  │\n",
       "│ Slovakia   ┆ Martin    ┆ 71        ┆ Moderate  ┆ … ┆ 71        ┆ Moderate  ┆ 36.3385  ┆ -88.8513 │\n",
       "│ France     ┆ Sceaux    ┆ 50        ┆ Good      ┆ … ┆ 50        ┆ Good      ┆ 48.7786  ┆ 2.2906   │\n",
       "│ United     ┆ Westervil ┆ 71        ┆ Moderate  ┆ … ┆ 71        ┆ Moderate  ┆ 40.1241  ┆ -82.921  │\n",
       "│ States of  ┆ le        ┆           ┆           ┆   ┆           ┆           ┆          ┆          │\n",
       "│ America    ┆           ┆           ┆           ┆   ┆           ┆           ┆          ┆          │\n",
       "└────────────┴───────────┴───────────┴───────────┴───┴───────────┴───────────┴──────────┴──────────┘"
      ]
     },
     "execution_count": 26,
     "metadata": {},
     "output_type": "execute_result"
    }
   ],
   "source": [
    "df = pl.read_csv('../../data/AQI_data.csv')\n",
    "df"
   ]
  },
  {
   "cell_type": "markdown",
   "metadata": {},
   "source": [
    "### 1. Understanding the data structure"
   ]
  },
  {
   "cell_type": "code",
   "execution_count": 27,
   "metadata": {},
   "outputs": [
    {
     "name": "stdout",
     "output_type": "stream",
     "text": [
      "THE SHAPE OF OUR DATAFRAME == (16695, 14)\n",
      "WE HAVE 16695 ROWS AND 14 COLUMNS \n"
     ]
    }
   ],
   "source": [
    "# get the dimensionality of our df\n",
    "print(f'THE SHAPE OF OUR DATAFRAME == {df.shape}')\n",
    "print(f'WE HAVE {df.shape[0] } ROWS AND {df.shape[1]} COLUMNS ')"
   ]
  },
  {
   "cell_type": "code",
   "execution_count": 28,
   "metadata": {},
   "outputs": [
    {
     "data": {
      "text/html": [
       "<div><style>\n",
       ".dataframe > thead > tr,\n",
       ".dataframe > tbody > tr {\n",
       "  text-align: right;\n",
       "  white-space: pre-wrap;\n",
       "}\n",
       "</style>\n",
       "<small>shape: (10, 14)</small><table border=\"1\" class=\"dataframe\"><thead><tr><th>Country</th><th>City</th><th>AQI Value</th><th>AQI Category</th><th>CO AQI Value</th><th>CO AQI Category</th><th>Ozone AQI Value</th><th>Ozone AQI Category</th><th>NO2 AQI Value</th><th>NO2 AQI Category</th><th>PM2.5 AQI Value</th><th>PM2.5 AQI Category</th><th>lat</th><th>lng</th></tr><tr><td>str</td><td>str</td><td>i64</td><td>str</td><td>i64</td><td>str</td><td>i64</td><td>str</td><td>i64</td><td>str</td><td>i64</td><td>str</td><td>f64</td><td>f64</td></tr></thead><tbody><tr><td>&quot;Russian Federa…</td><td>&quot;Praskoveya&quot;</td><td>51</td><td>&quot;Moderate&quot;</td><td>1</td><td>&quot;Good&quot;</td><td>36</td><td>&quot;Good&quot;</td><td>0</td><td>&quot;Good&quot;</td><td>51</td><td>&quot;Moderate&quot;</td><td>44.7444</td><td>44.2031</td></tr><tr><td>&quot;Brazil&quot;</td><td>&quot;Presidente Dut…</td><td>41</td><td>&quot;Good&quot;</td><td>1</td><td>&quot;Good&quot;</td><td>5</td><td>&quot;Good&quot;</td><td>1</td><td>&quot;Good&quot;</td><td>41</td><td>&quot;Good&quot;</td><td>-5.29</td><td>-44.49</td></tr><tr><td>&quot;Brazil&quot;</td><td>&quot;Presidente Dut…</td><td>41</td><td>&quot;Good&quot;</td><td>1</td><td>&quot;Good&quot;</td><td>5</td><td>&quot;Good&quot;</td><td>1</td><td>&quot;Good&quot;</td><td>41</td><td>&quot;Good&quot;</td><td>-11.2958</td><td>-41.9869</td></tr><tr><td>&quot;Italy&quot;</td><td>&quot;Priolo Gargall…</td><td>66</td><td>&quot;Moderate&quot;</td><td>1</td><td>&quot;Good&quot;</td><td>39</td><td>&quot;Good&quot;</td><td>2</td><td>&quot;Good&quot;</td><td>66</td><td>&quot;Moderate&quot;</td><td>37.1667</td><td>15.1833</td></tr><tr><td>&quot;Poland&quot;</td><td>&quot;Przasnysz&quot;</td><td>34</td><td>&quot;Good&quot;</td><td>1</td><td>&quot;Good&quot;</td><td>34</td><td>&quot;Good&quot;</td><td>0</td><td>&quot;Good&quot;</td><td>20</td><td>&quot;Good&quot;</td><td>53.0167</td><td>20.8833</td></tr><tr><td>&quot;United States …</td><td>&quot;Punta Gorda&quot;</td><td>54</td><td>&quot;Moderate&quot;</td><td>1</td><td>&quot;Good&quot;</td><td>14</td><td>&quot;Good&quot;</td><td>11</td><td>&quot;Good&quot;</td><td>54</td><td>&quot;Moderate&quot;</td><td>16.1005</td><td>-88.8074</td></tr><tr><td>&quot;United States …</td><td>&quot;Punta Gorda&quot;</td><td>54</td><td>&quot;Moderate&quot;</td><td>1</td><td>&quot;Good&quot;</td><td>14</td><td>&quot;Good&quot;</td><td>11</td><td>&quot;Good&quot;</td><td>54</td><td>&quot;Moderate&quot;</td><td>26.8941</td><td>-82.0513</td></tr><tr><td>&quot;Belgium&quot;</td><td>&quot;Puurs&quot;</td><td>64</td><td>&quot;Moderate&quot;</td><td>1</td><td>&quot;Good&quot;</td><td>29</td><td>&quot;Good&quot;</td><td>7</td><td>&quot;Good&quot;</td><td>64</td><td>&quot;Moderate&quot;</td><td>51.0761</td><td>4.2803</td></tr><tr><td>&quot;Russian Federa…</td><td>&quot;Pyatigorsk&quot;</td><td>54</td><td>&quot;Moderate&quot;</td><td>1</td><td>&quot;Good&quot;</td><td>41</td><td>&quot;Good&quot;</td><td>1</td><td>&quot;Good&quot;</td><td>54</td><td>&quot;Moderate&quot;</td><td>44.05</td><td>43.0667</td></tr><tr><td>&quot;China&quot;</td><td>&quot;Qinzhou&quot;</td><td>68</td><td>&quot;Moderate&quot;</td><td>2</td><td>&quot;Good&quot;</td><td>68</td><td>&quot;Moderate&quot;</td><td>1</td><td>&quot;Good&quot;</td><td>58</td><td>&quot;Moderate&quot;</td><td>21.95</td><td>108.6167</td></tr></tbody></table></div>"
      ],
      "text/plain": [
       "shape: (10, 14)\n",
       "┌────────────┬───────────┬───────────┬───────────┬───┬───────────┬───────────┬──────────┬──────────┐\n",
       "│ Country    ┆ City      ┆ AQI Value ┆ AQI       ┆ … ┆ PM2.5 AQI ┆ PM2.5 AQI ┆ lat      ┆ lng      │\n",
       "│ ---        ┆ ---       ┆ ---       ┆ Category  ┆   ┆ Value     ┆ Category  ┆ ---      ┆ ---      │\n",
       "│ str        ┆ str       ┆ i64       ┆ ---       ┆   ┆ ---       ┆ ---       ┆ f64      ┆ f64      │\n",
       "│            ┆           ┆           ┆ str       ┆   ┆ i64       ┆ str       ┆          ┆          │\n",
       "╞════════════╪═══════════╪═══════════╪═══════════╪═══╪═══════════╪═══════════╪══════════╪══════════╡\n",
       "│ Russian    ┆ Praskovey ┆ 51        ┆ Moderate  ┆ … ┆ 51        ┆ Moderate  ┆ 44.7444  ┆ 44.2031  │\n",
       "│ Federation ┆ a         ┆           ┆           ┆   ┆           ┆           ┆          ┆          │\n",
       "│ Brazil     ┆ President ┆ 41        ┆ Good      ┆ … ┆ 41        ┆ Good      ┆ -5.29    ┆ -44.49   │\n",
       "│            ┆ e Dutra   ┆           ┆           ┆   ┆           ┆           ┆          ┆          │\n",
       "│ Brazil     ┆ President ┆ 41        ┆ Good      ┆ … ┆ 41        ┆ Good      ┆ -11.2958 ┆ -41.9869 │\n",
       "│            ┆ e Dutra   ┆           ┆           ┆   ┆           ┆           ┆          ┆          │\n",
       "│ Italy      ┆ Priolo    ┆ 66        ┆ Moderate  ┆ … ┆ 66        ┆ Moderate  ┆ 37.1667  ┆ 15.1833  │\n",
       "│            ┆ Gargallo  ┆           ┆           ┆   ┆           ┆           ┆          ┆          │\n",
       "│ Poland     ┆ Przasnysz ┆ 34        ┆ Good      ┆ … ┆ 20        ┆ Good      ┆ 53.0167  ┆ 20.8833  │\n",
       "│ United     ┆ Punta     ┆ 54        ┆ Moderate  ┆ … ┆ 54        ┆ Moderate  ┆ 16.1005  ┆ -88.8074 │\n",
       "│ States of  ┆ Gorda     ┆           ┆           ┆   ┆           ┆           ┆          ┆          │\n",
       "│ America    ┆           ┆           ┆           ┆   ┆           ┆           ┆          ┆          │\n",
       "│ United     ┆ Punta     ┆ 54        ┆ Moderate  ┆ … ┆ 54        ┆ Moderate  ┆ 26.8941  ┆ -82.0513 │\n",
       "│ States of  ┆ Gorda     ┆           ┆           ┆   ┆           ┆           ┆          ┆          │\n",
       "│ America    ┆           ┆           ┆           ┆   ┆           ┆           ┆          ┆          │\n",
       "│ Belgium    ┆ Puurs     ┆ 64        ┆ Moderate  ┆ … ┆ 64        ┆ Moderate  ┆ 51.0761  ┆ 4.2803   │\n",
       "│ Russian    ┆ Pyatigors ┆ 54        ┆ Moderate  ┆ … ┆ 54        ┆ Moderate  ┆ 44.05    ┆ 43.0667  │\n",
       "│ Federation ┆ k         ┆           ┆           ┆   ┆           ┆           ┆          ┆          │\n",
       "│ China      ┆ Qinzhou   ┆ 68        ┆ Moderate  ┆ … ┆ 58        ┆ Moderate  ┆ 21.95    ┆ 108.6167 │\n",
       "└────────────┴───────────┴───────────┴───────────┴───┴───────────┴───────────┴──────────┴──────────┘"
      ]
     },
     "execution_count": 28,
     "metadata": {},
     "output_type": "execute_result"
    }
   ],
   "source": [
    "# View the top 10 rows of our df\n",
    "df.head(10)"
   ]
  },
  {
   "cell_type": "code",
   "execution_count": 29,
   "metadata": {},
   "outputs": [
    {
     "name": "stdout",
     "output_type": "stream",
     "text": [
      "COLUMN: Country  -> DATATYPE : String\n",
      "COLUMN: City  -> DATATYPE : String\n",
      "COLUMN: AQI Value  -> DATATYPE : Int64\n",
      "COLUMN: AQI Category  -> DATATYPE : String\n",
      "COLUMN: CO AQI Value  -> DATATYPE : Int64\n",
      "COLUMN: CO AQI Category  -> DATATYPE : String\n",
      "COLUMN: Ozone AQI Value  -> DATATYPE : Int64\n",
      "COLUMN: Ozone AQI Category  -> DATATYPE : String\n",
      "COLUMN: NO2 AQI Value  -> DATATYPE : Int64\n",
      "COLUMN: NO2 AQI Category  -> DATATYPE : String\n",
      "COLUMN: PM2.5 AQI Value  -> DATATYPE : Int64\n",
      "COLUMN: PM2.5 AQI Category  -> DATATYPE : String\n",
      "COLUMN: lat  -> DATATYPE : Float64\n",
      "COLUMN: lng  -> DATATYPE : Float64\n"
     ]
    }
   ],
   "source": [
    "# check the data types of each column\n",
    "for col, dtype in zip(df.columns, df.dtypes):\n",
    "    print(f'COLUMN: {col}  -> DATATYPE : {dtype}')\n",
    "\n",
    "\n",
    "    "
   ]
  },
  {
   "cell_type": "code",
   "execution_count": 32,
   "metadata": {},
   "outputs": [
    {
     "data": {
      "text/html": [
       "<div><style>\n",
       ".dataframe > thead > tr,\n",
       ".dataframe > tbody > tr {\n",
       "  text-align: right;\n",
       "  white-space: pre-wrap;\n",
       "}\n",
       "</style>\n",
       "<small>shape: (9, 15)</small><table border=\"1\" class=\"dataframe\"><thead><tr><th>statistic</th><th>Country</th><th>City</th><th>AQI Value</th><th>AQI Category</th><th>CO AQI Value</th><th>CO AQI Category</th><th>Ozone AQI Value</th><th>Ozone AQI Category</th><th>NO2 AQI Value</th><th>NO2 AQI Category</th><th>PM2.5 AQI Value</th><th>PM2.5 AQI Category</th><th>lat</th><th>lng</th></tr><tr><td>str</td><td>str</td><td>str</td><td>f64</td><td>str</td><td>f64</td><td>str</td><td>f64</td><td>str</td><td>f64</td><td>str</td><td>f64</td><td>str</td><td>f64</td><td>f64</td></tr></thead><tbody><tr><td>&quot;count&quot;</td><td>&quot;16393&quot;</td><td>&quot;16695&quot;</td><td>16695.0</td><td>&quot;16695&quot;</td><td>16695.0</td><td>&quot;16695&quot;</td><td>16695.0</td><td>&quot;16695&quot;</td><td>16695.0</td><td>&quot;16695&quot;</td><td>16695.0</td><td>&quot;16695&quot;</td><td>16695.0</td><td>16695.0</td></tr><tr><td>&quot;null_count&quot;</td><td>&quot;302&quot;</td><td>&quot;0&quot;</td><td>0.0</td><td>&quot;0&quot;</td><td>0.0</td><td>&quot;0&quot;</td><td>0.0</td><td>&quot;0&quot;</td><td>0.0</td><td>&quot;0&quot;</td><td>0.0</td><td>&quot;0&quot;</td><td>0.0</td><td>0.0</td></tr><tr><td>&quot;mean&quot;</td><td>null</td><td>null</td><td>62.998682</td><td>null</td><td>1.342138</td><td>null</td><td>31.767355</td><td>null</td><td>3.819647</td><td>null</td><td>59.821324</td><td>null</td><td>30.267148</td><td>-3.944485</td></tr><tr><td>&quot;std&quot;</td><td>null</td><td>null</td><td>43.091971</td><td>null</td><td>2.371379</td><td>null</td><td>22.839343</td><td>null</td><td>5.880677</td><td>null</td><td>43.208298</td><td>null</td><td>22.947398</td><td>73.037148</td></tr><tr><td>&quot;min&quot;</td><td>&quot;Afghanistan&quot;</td><td>&quot;Aabenraa&quot;</td><td>7.0</td><td>&quot;Good&quot;</td><td>0.0</td><td>&quot;Good&quot;</td><td>0.0</td><td>&quot;Good&quot;</td><td>0.0</td><td>&quot;Good&quot;</td><td>0.0</td><td>&quot;Good&quot;</td><td>-54.8019</td><td>-171.75</td></tr><tr><td>&quot;25%&quot;</td><td>null</td><td>null</td><td>39.0</td><td>null</td><td>1.0</td><td>null</td><td>20.0</td><td>null</td><td>0.0</td><td>null</td><td>34.0</td><td>null</td><td>16.5167</td><td>-75.1779</td></tr><tr><td>&quot;50%&quot;</td><td>null</td><td>null</td><td>52.0</td><td>null</td><td>1.0</td><td>null</td><td>29.0</td><td>null</td><td>2.0</td><td>null</td><td>52.0</td><td>null</td><td>38.8158</td><td>5.6431</td></tr><tr><td>&quot;75%&quot;</td><td>null</td><td>null</td><td>69.0</td><td>null</td><td>1.0</td><td>null</td><td>38.0</td><td>null</td><td>5.0</td><td>null</td><td>69.0</td><td>null</td><td>46.6833</td><td>36.2833</td></tr><tr><td>&quot;max&quot;</td><td>&quot;Zimbabwe&quot;</td><td>&quot;Zyryanovsk&quot;</td><td>500.0</td><td>&quot;Very Unhealthy…</td><td>133.0</td><td>&quot;Unhealthy for …</td><td>222.0</td><td>&quot;Very Unhealthy…</td><td>91.0</td><td>&quot;Moderate&quot;</td><td>500.0</td><td>&quot;Very Unhealthy…</td><td>70.767</td><td>178.0178</td></tr></tbody></table></div>"
      ],
      "text/plain": [
       "shape: (9, 15)\n",
       "┌───────────┬───────────┬───────────┬───────────┬───┬───────────┬───────────┬───────────┬──────────┐\n",
       "│ statistic ┆ Country   ┆ City      ┆ AQI Value ┆ … ┆ PM2.5 AQI ┆ PM2.5 AQI ┆ lat       ┆ lng      │\n",
       "│ ---       ┆ ---       ┆ ---       ┆ ---       ┆   ┆ Value     ┆ Category  ┆ ---       ┆ ---      │\n",
       "│ str       ┆ str       ┆ str       ┆ f64       ┆   ┆ ---       ┆ ---       ┆ f64       ┆ f64      │\n",
       "│           ┆           ┆           ┆           ┆   ┆ f64       ┆ str       ┆           ┆          │\n",
       "╞═══════════╪═══════════╪═══════════╪═══════════╪═══╪═══════════╪═══════════╪═══════════╪══════════╡\n",
       "│ count     ┆ 16393     ┆ 16695     ┆ 16695.0   ┆ … ┆ 16695.0   ┆ 16695     ┆ 16695.0   ┆ 16695.0  │\n",
       "│ null_coun ┆ 302       ┆ 0         ┆ 0.0       ┆ … ┆ 0.0       ┆ 0         ┆ 0.0       ┆ 0.0      │\n",
       "│ t         ┆           ┆           ┆           ┆   ┆           ┆           ┆           ┆          │\n",
       "│ mean      ┆ null      ┆ null      ┆ 62.998682 ┆ … ┆ 59.821324 ┆ null      ┆ 30.267148 ┆ -3.94448 │\n",
       "│           ┆           ┆           ┆           ┆   ┆           ┆           ┆           ┆ 5        │\n",
       "│ std       ┆ null      ┆ null      ┆ 43.091971 ┆ … ┆ 43.208298 ┆ null      ┆ 22.947398 ┆ 73.03714 │\n",
       "│           ┆           ┆           ┆           ┆   ┆           ┆           ┆           ┆ 8        │\n",
       "│ min       ┆ Afghanist ┆ Aabenraa  ┆ 7.0       ┆ … ┆ 0.0       ┆ Good      ┆ -54.8019  ┆ -171.75  │\n",
       "│           ┆ an        ┆           ┆           ┆   ┆           ┆           ┆           ┆          │\n",
       "│ 25%       ┆ null      ┆ null      ┆ 39.0      ┆ … ┆ 34.0      ┆ null      ┆ 16.5167   ┆ -75.1779 │\n",
       "│ 50%       ┆ null      ┆ null      ┆ 52.0      ┆ … ┆ 52.0      ┆ null      ┆ 38.8158   ┆ 5.6431   │\n",
       "│ 75%       ┆ null      ┆ null      ┆ 69.0      ┆ … ┆ 69.0      ┆ null      ┆ 46.6833   ┆ 36.2833  │\n",
       "│ max       ┆ Zimbabwe  ┆ Zyryanovs ┆ 500.0     ┆ … ┆ 500.0     ┆ Very      ┆ 70.767    ┆ 178.0178 │\n",
       "│           ┆           ┆ k         ┆           ┆   ┆           ┆ Unhealthy ┆           ┆          │\n",
       "└───────────┴───────────┴───────────┴───────────┴───┴───────────┴───────────┴───────────┴──────────┘"
      ]
     },
     "execution_count": 32,
     "metadata": {},
     "output_type": "execute_result"
    }
   ],
   "source": [
    "# get general information about the data\n",
    "df.describe()"
   ]
  },
  {
   "cell_type": "code",
   "execution_count": null,
   "metadata": {},
   "outputs": [],
   "source": []
  },
  {
   "cell_type": "markdown",
   "metadata": {},
   "source": [
    "### Handling missing values"
   ]
  },
  {
   "cell_type": "code",
   "execution_count": 37,
   "metadata": {},
   "outputs": [
    {
     "data": {
      "text/html": [
       "<div><style>\n",
       ".dataframe > thead > tr,\n",
       ".dataframe > tbody > tr {\n",
       "  text-align: right;\n",
       "  white-space: pre-wrap;\n",
       "}\n",
       "</style>\n",
       "<small>shape: (1, 14)</small><table border=\"1\" class=\"dataframe\"><thead><tr><th>Country</th><th>City</th><th>AQI Value</th><th>AQI Category</th><th>CO AQI Value</th><th>CO AQI Category</th><th>Ozone AQI Value</th><th>Ozone AQI Category</th><th>NO2 AQI Value</th><th>NO2 AQI Category</th><th>PM2.5 AQI Value</th><th>PM2.5 AQI Category</th><th>lat</th><th>lng</th></tr><tr><td>u32</td><td>u32</td><td>u32</td><td>u32</td><td>u32</td><td>u32</td><td>u32</td><td>u32</td><td>u32</td><td>u32</td><td>u32</td><td>u32</td><td>u32</td><td>u32</td></tr></thead><tbody><tr><td>302</td><td>0</td><td>0</td><td>0</td><td>0</td><td>0</td><td>0</td><td>0</td><td>0</td><td>0</td><td>0</td><td>0</td><td>0</td><td>0</td></tr></tbody></table></div>"
      ],
      "text/plain": [
       "shape: (1, 14)\n",
       "┌─────────┬──────┬───────────┬──────────────┬───┬─────────────────┬────────────────────┬─────┬─────┐\n",
       "│ Country ┆ City ┆ AQI Value ┆ AQI Category ┆ … ┆ PM2.5 AQI Value ┆ PM2.5 AQI Category ┆ lat ┆ lng │\n",
       "│ ---     ┆ ---  ┆ ---       ┆ ---          ┆   ┆ ---             ┆ ---                ┆ --- ┆ --- │\n",
       "│ u32     ┆ u32  ┆ u32       ┆ u32          ┆   ┆ u32             ┆ u32                ┆ u32 ┆ u32 │\n",
       "╞═════════╪══════╪═══════════╪══════════════╪═══╪═════════════════╪════════════════════╪═════╪═════╡\n",
       "│ 302     ┆ 0    ┆ 0         ┆ 0            ┆ … ┆ 0               ┆ 0                  ┆ 0   ┆ 0   │\n",
       "└─────────┴──────┴───────────┴──────────────┴───┴─────────────────┴────────────────────┴─────┴─────┘"
      ]
     },
     "execution_count": 37,
     "metadata": {},
     "output_type": "execute_result"
    }
   ],
   "source": [
    "df.null_count()\n",
    "# we have no missing values"
   ]
  },
  {
   "cell_type": "code",
   "execution_count": null,
   "metadata": {},
   "outputs": [],
   "source": []
  },
  {
   "cell_type": "markdown",
   "metadata": {},
   "source": [
    "### Exploring categorical variables"
   ]
  },
  {
   "cell_type": "code",
   "execution_count": null,
   "metadata": {},
   "outputs": [],
   "source": []
  },
  {
   "cell_type": "code",
   "execution_count": null,
   "metadata": {},
   "outputs": [],
   "source": []
  },
  {
   "cell_type": "markdown",
   "metadata": {},
   "source": [
    "### Data Visualization :"
   ]
  },
  {
   "cell_type": "code",
   "execution_count": null,
   "metadata": {},
   "outputs": [],
   "source": []
  },
  {
   "cell_type": "code",
   "execution_count": null,
   "metadata": {},
   "outputs": [],
   "source": []
  },
  {
   "cell_type": "code",
   "execution_count": null,
   "metadata": {},
   "outputs": [],
   "source": []
  },
  {
   "cell_type": "code",
   "execution_count": null,
   "metadata": {},
   "outputs": [],
   "source": []
  },
  {
   "cell_type": "markdown",
   "metadata": {},
   "source": [
    "### Identifying outliers"
   ]
  },
  {
   "cell_type": "code",
   "execution_count": null,
   "metadata": {},
   "outputs": [],
   "source": []
  },
  {
   "cell_type": "code",
   "execution_count": null,
   "metadata": {},
   "outputs": [],
   "source": []
  },
  {
   "cell_type": "code",
   "execution_count": null,
   "metadata": {},
   "outputs": [],
   "source": []
  },
  {
   "cell_type": "code",
   "execution_count": null,
   "metadata": {},
   "outputs": [],
   "source": []
  },
  {
   "cell_type": "code",
   "execution_count": null,
   "metadata": {},
   "outputs": [],
   "source": []
  },
  {
   "cell_type": "code",
   "execution_count": null,
   "metadata": {},
   "outputs": [],
   "source": []
  },
  {
   "cell_type": "markdown",
   "metadata": {},
   "source": [
    "### Feature Engineering"
   ]
  },
  {
   "cell_type": "code",
   "execution_count": null,
   "metadata": {},
   "outputs": [],
   "source": []
  },
  {
   "cell_type": "code",
   "execution_count": null,
   "metadata": {},
   "outputs": [],
   "source": []
  },
  {
   "cell_type": "code",
   "execution_count": null,
   "metadata": {},
   "outputs": [],
   "source": []
  },
  {
   "cell_type": "code",
   "execution_count": null,
   "metadata": {},
   "outputs": [],
   "source": []
  }
 ],
 "metadata": {
  "kernelspec": {
   "display_name": "Python 3",
   "language": "python",
   "name": "python3"
  },
  "language_info": {
   "codemirror_mode": {
    "name": "ipython",
    "version": 3
   },
   "file_extension": ".py",
   "mimetype": "text/x-python",
   "name": "python",
   "nbconvert_exporter": "python",
   "pygments_lexer": "ipython3",
   "version": "3.10.12"
  }
 },
 "nbformat": 4,
 "nbformat_minor": 2
}
