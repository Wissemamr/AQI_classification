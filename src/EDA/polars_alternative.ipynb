{
 "cells": [
  {
   "cell_type": "markdown",
   "metadata": {},
   "source": [
    "## NOTE\n",
    "\n",
    "In this notebook, I will be conductin almost the same data manipulation perforemd on our dataset but using another library : **Polars** to get familiar with it"
   ]
  },
  {
   "cell_type": "markdown",
   "metadata": {},
   "source": [
    "### Polars Library :\n",
    "To handle our data efficiently, we will be using Polars which is a DataFrame library completely written in Rust and is built to empower Python developers with a scalable and efficient framework for handling data and is considered as an alternative to the very popular pandas library. It provides a wide range of functionalities that facilitate various data manipulation and analysis tasks. Some of the key features and advantages of using Polars include:\n",
    "- Speed and performance\n",
    "- Data manipulation capabilities\n",
    "- Expressive syntax\n",
    "- Polars support lazy evaluation\n",
    "\n",
    "\n",
    "### Why choose Polars when we have Pandas ?\n",
    "\n",
    "pandas, a widely adopted library, is known for its flexibility and ease of use. However, when dealing with large datasets, Pandas can suffer from performance bottlenecks due to its reliance on single-threaded execution. As the dataset size increases, processing times can become prohibitively long, limiting productivity.\n",
    "\n",
    "Polars has been specifically designed to handle large datasets efficiently. With its lazy evaluation strategy and parallel execution capabilities, Polars excels at processing substantial amounts of data swiftly. By distributing computations across multiple CPU cores, Polars leverages parallelism to deliver impressive performance gains. See the speed comparison test between Pandas and Polars by Yuki.\n",
    "\n",
    "\n",
    "**Polars documentation  :** <https://docs.pola.rs> "
   ]
  },
  {
   "cell_type": "code",
   "execution_count": 4,
   "metadata": {},
   "outputs": [
    {
     "name": "stdout",
     "output_type": "stream",
     "text": [
      "Defaulting to user installation because normal site-packages is not writeable\n",
      "Requirement already satisfied: polars in /home/wissem/.local/lib/python3.10/site-packages (0.20.18)\n",
      "Note: you may need to restart the kernel to use updated packages.\n"
     ]
    }
   ],
   "source": [
    "%pip install polars"
   ]
  },
  {
   "cell_type": "code",
   "execution_count": 5,
   "metadata": {},
   "outputs": [
    {
     "name": "stdout",
     "output_type": "stream",
     "text": [
      "[POLLARS VERSION] == 0.20.18\n"
     ]
    }
   ],
   "source": [
    "import polars as pl\n",
    "\n",
    "print(f\"[POLLARS VERSION] == {pl.__version__}\")"
   ]
  },
  {
   "cell_type": "code",
   "execution_count": 6,
   "metadata": {},
   "outputs": [
    {
     "data": {
      "text/html": [
       "<div><style>\n",
       ".dataframe > thead > tr,\n",
       ".dataframe > tbody > tr {\n",
       "  text-align: right;\n",
       "  white-space: pre-wrap;\n",
       "}\n",
       "</style>\n",
       "<small>shape: (16_695, 14)</small><table border=\"1\" class=\"dataframe\"><thead><tr><th>Country</th><th>City</th><th>AQI Value</th><th>AQI Category</th><th>CO AQI Value</th><th>CO AQI Category</th><th>Ozone AQI Value</th><th>Ozone AQI Category</th><th>NO2 AQI Value</th><th>NO2 AQI Category</th><th>PM2.5 AQI Value</th><th>PM2.5 AQI Category</th><th>lat</th><th>lng</th></tr><tr><td>str</td><td>str</td><td>i64</td><td>str</td><td>i64</td><td>str</td><td>i64</td><td>str</td><td>i64</td><td>str</td><td>i64</td><td>str</td><td>f64</td><td>f64</td></tr></thead><tbody><tr><td>&quot;Russian Federa…</td><td>&quot;Praskoveya&quot;</td><td>51</td><td>&quot;Moderate&quot;</td><td>1</td><td>&quot;Good&quot;</td><td>36</td><td>&quot;Good&quot;</td><td>0</td><td>&quot;Good&quot;</td><td>51</td><td>&quot;Moderate&quot;</td><td>44.7444</td><td>44.2031</td></tr><tr><td>&quot;Brazil&quot;</td><td>&quot;Presidente Dut…</td><td>41</td><td>&quot;Good&quot;</td><td>1</td><td>&quot;Good&quot;</td><td>5</td><td>&quot;Good&quot;</td><td>1</td><td>&quot;Good&quot;</td><td>41</td><td>&quot;Good&quot;</td><td>-5.29</td><td>-44.49</td></tr><tr><td>&quot;Brazil&quot;</td><td>&quot;Presidente Dut…</td><td>41</td><td>&quot;Good&quot;</td><td>1</td><td>&quot;Good&quot;</td><td>5</td><td>&quot;Good&quot;</td><td>1</td><td>&quot;Good&quot;</td><td>41</td><td>&quot;Good&quot;</td><td>-11.2958</td><td>-41.9869</td></tr><tr><td>&quot;Italy&quot;</td><td>&quot;Priolo Gargall…</td><td>66</td><td>&quot;Moderate&quot;</td><td>1</td><td>&quot;Good&quot;</td><td>39</td><td>&quot;Good&quot;</td><td>2</td><td>&quot;Good&quot;</td><td>66</td><td>&quot;Moderate&quot;</td><td>37.1667</td><td>15.1833</td></tr><tr><td>&quot;Poland&quot;</td><td>&quot;Przasnysz&quot;</td><td>34</td><td>&quot;Good&quot;</td><td>1</td><td>&quot;Good&quot;</td><td>34</td><td>&quot;Good&quot;</td><td>0</td><td>&quot;Good&quot;</td><td>20</td><td>&quot;Good&quot;</td><td>53.0167</td><td>20.8833</td></tr><tr><td>&hellip;</td><td>&hellip;</td><td>&hellip;</td><td>&hellip;</td><td>&hellip;</td><td>&hellip;</td><td>&hellip;</td><td>&hellip;</td><td>&hellip;</td><td>&hellip;</td><td>&hellip;</td><td>&hellip;</td><td>&hellip;</td><td>&hellip;</td></tr><tr><td>&quot;United States …</td><td>&quot;Highland Sprin…</td><td>54</td><td>&quot;Moderate&quot;</td><td>1</td><td>&quot;Good&quot;</td><td>34</td><td>&quot;Good&quot;</td><td>5</td><td>&quot;Good&quot;</td><td>54</td><td>&quot;Moderate&quot;</td><td>37.5516</td><td>-77.3285</td></tr><tr><td>&quot;Slovakia&quot;</td><td>&quot;Martin&quot;</td><td>71</td><td>&quot;Moderate&quot;</td><td>1</td><td>&quot;Good&quot;</td><td>39</td><td>&quot;Good&quot;</td><td>1</td><td>&quot;Good&quot;</td><td>71</td><td>&quot;Moderate&quot;</td><td>49.065</td><td>18.9219</td></tr><tr><td>&quot;Slovakia&quot;</td><td>&quot;Martin&quot;</td><td>71</td><td>&quot;Moderate&quot;</td><td>1</td><td>&quot;Good&quot;</td><td>39</td><td>&quot;Good&quot;</td><td>1</td><td>&quot;Good&quot;</td><td>71</td><td>&quot;Moderate&quot;</td><td>36.3385</td><td>-88.8513</td></tr><tr><td>&quot;France&quot;</td><td>&quot;Sceaux&quot;</td><td>50</td><td>&quot;Good&quot;</td><td>1</td><td>&quot;Good&quot;</td><td>20</td><td>&quot;Good&quot;</td><td>5</td><td>&quot;Good&quot;</td><td>50</td><td>&quot;Good&quot;</td><td>48.7786</td><td>2.2906</td></tr><tr><td>&quot;United States …</td><td>&quot;Westerville&quot;</td><td>71</td><td>&quot;Moderate&quot;</td><td>1</td><td>&quot;Good&quot;</td><td>44</td><td>&quot;Good&quot;</td><td>2</td><td>&quot;Good&quot;</td><td>71</td><td>&quot;Moderate&quot;</td><td>40.1241</td><td>-82.921</td></tr></tbody></table></div>"
      ],
      "text/plain": [
       "shape: (16_695, 14)\n",
       "┌────────────┬───────────┬───────────┬───────────┬───┬───────────┬───────────┬──────────┬──────────┐\n",
       "│ Country    ┆ City      ┆ AQI Value ┆ AQI       ┆ … ┆ PM2.5 AQI ┆ PM2.5 AQI ┆ lat      ┆ lng      │\n",
       "│ ---        ┆ ---       ┆ ---       ┆ Category  ┆   ┆ Value     ┆ Category  ┆ ---      ┆ ---      │\n",
       "│ str        ┆ str       ┆ i64       ┆ ---       ┆   ┆ ---       ┆ ---       ┆ f64      ┆ f64      │\n",
       "│            ┆           ┆           ┆ str       ┆   ┆ i64       ┆ str       ┆          ┆          │\n",
       "╞════════════╪═══════════╪═══════════╪═══════════╪═══╪═══════════╪═══════════╪══════════╪══════════╡\n",
       "│ Russian    ┆ Praskovey ┆ 51        ┆ Moderate  ┆ … ┆ 51        ┆ Moderate  ┆ 44.7444  ┆ 44.2031  │\n",
       "│ Federation ┆ a         ┆           ┆           ┆   ┆           ┆           ┆          ┆          │\n",
       "│ Brazil     ┆ President ┆ 41        ┆ Good      ┆ … ┆ 41        ┆ Good      ┆ -5.29    ┆ -44.49   │\n",
       "│            ┆ e Dutra   ┆           ┆           ┆   ┆           ┆           ┆          ┆          │\n",
       "│ Brazil     ┆ President ┆ 41        ┆ Good      ┆ … ┆ 41        ┆ Good      ┆ -11.2958 ┆ -41.9869 │\n",
       "│            ┆ e Dutra   ┆           ┆           ┆   ┆           ┆           ┆          ┆          │\n",
       "│ Italy      ┆ Priolo    ┆ 66        ┆ Moderate  ┆ … ┆ 66        ┆ Moderate  ┆ 37.1667  ┆ 15.1833  │\n",
       "│            ┆ Gargallo  ┆           ┆           ┆   ┆           ┆           ┆          ┆          │\n",
       "│ Poland     ┆ Przasnysz ┆ 34        ┆ Good      ┆ … ┆ 20        ┆ Good      ┆ 53.0167  ┆ 20.8833  │\n",
       "│ …          ┆ …         ┆ …         ┆ …         ┆ … ┆ …         ┆ …         ┆ …        ┆ …        │\n",
       "│ United     ┆ Highland  ┆ 54        ┆ Moderate  ┆ … ┆ 54        ┆ Moderate  ┆ 37.5516  ┆ -77.3285 │\n",
       "│ States of  ┆ Springs   ┆           ┆           ┆   ┆           ┆           ┆          ┆          │\n",
       "│ America    ┆           ┆           ┆           ┆   ┆           ┆           ┆          ┆          │\n",
       "│ Slovakia   ┆ Martin    ┆ 71        ┆ Moderate  ┆ … ┆ 71        ┆ Moderate  ┆ 49.065   ┆ 18.9219  │\n",
       "│ Slovakia   ┆ Martin    ┆ 71        ┆ Moderate  ┆ … ┆ 71        ┆ Moderate  ┆ 36.3385  ┆ -88.8513 │\n",
       "│ France     ┆ Sceaux    ┆ 50        ┆ Good      ┆ … ┆ 50        ┆ Good      ┆ 48.7786  ┆ 2.2906   │\n",
       "│ United     ┆ Westervil ┆ 71        ┆ Moderate  ┆ … ┆ 71        ┆ Moderate  ┆ 40.1241  ┆ -82.921  │\n",
       "│ States of  ┆ le        ┆           ┆           ┆   ┆           ┆           ┆          ┆          │\n",
       "│ America    ┆           ┆           ┆           ┆   ┆           ┆           ┆          ┆          │\n",
       "└────────────┴───────────┴───────────┴───────────┴───┴───────────┴───────────┴──────────┴──────────┘"
      ]
     },
     "execution_count": 6,
     "metadata": {},
     "output_type": "execute_result"
    }
   ],
   "source": [
    "df = pl.read_csv(\"../../data/AQI_data.csv\")\n",
    "df"
   ]
  },
  {
   "cell_type": "code",
   "execution_count": 7,
   "metadata": {},
   "outputs": [
    {
     "name": "stdout",
     "output_type": "stream",
     "text": [
      "THE SHAPE OF OUR DATAFRAME == (16695, 14)\n",
      "WE HAVE 16695 ROWS AND 14 COLUMNS \n"
     ]
    }
   ],
   "source": [
    "# get the dimensionality of our df\n",
    "print(f\"THE SHAPE OF OUR DATAFRAME == {df.shape}\")\n",
    "print(f\"WE HAVE {df.shape[0] } ROWS AND {df.shape[1]} COLUMNS \")"
   ]
  },
  {
   "cell_type": "code",
   "execution_count": 8,
   "metadata": {},
   "outputs": [
    {
     "name": "stdout",
     "output_type": "stream",
     "text": [
      "shape: (7, 14)\n",
      "┌────────────┬────────┬───────────┬────────────┬───┬────────────┬────────────┬─────────┬───────────┐\n",
      "│ Country    ┆ City   ┆ AQI Value ┆ AQI        ┆ … ┆ PM2.5 AQI  ┆ PM2.5 AQI  ┆ lat     ┆ lng       │\n",
      "│ ---        ┆ ---    ┆ ---       ┆ Category   ┆   ┆ Value      ┆ Category   ┆ ---     ┆ ---       │\n",
      "│ str        ┆ str    ┆ i64       ┆ ---        ┆   ┆ ---        ┆ ---        ┆ f64     ┆ f64       │\n",
      "│            ┆        ┆           ┆ str        ┆   ┆ i64        ┆ str        ┆         ┆           │\n",
      "╞════════════╪════════╪═══════════╪════════════╪═══╪════════════╪════════════╪═════════╪═══════════╡\n",
      "│ United     ┆ Dayton ┆ 45        ┆ Good       ┆ … ┆ 45         ┆ Good       ┆ 39.7805 ┆ -84.2003  │\n",
      "│ States of  ┆        ┆           ┆            ┆   ┆            ┆            ┆         ┆           │\n",
      "│ America    ┆        ┆           ┆            ┆   ┆            ┆            ┆         ┆           │\n",
      "│ United     ┆ Dayton ┆ 45        ┆ Good       ┆ … ┆ 45         ┆ Good       ┆ 39.2592 ┆ -119.5653 │\n",
      "│ States of  ┆        ┆           ┆            ┆   ┆            ┆            ┆         ┆           │\n",
      "│ America    ┆        ┆           ┆            ┆   ┆            ┆            ┆         ┆           │\n",
      "│ United     ┆ Dayton ┆ 45        ┆ Good       ┆ … ┆ 45         ┆ Good       ┆ 30.0315 ┆ -94.9158  │\n",
      "│ States of  ┆        ┆           ┆            ┆   ┆            ┆            ┆         ┆           │\n",
      "│ America    ┆        ┆           ┆            ┆   ┆            ┆            ┆         ┆           │\n",
      "│ Belgium    ┆ Deinze ┆ 36        ┆ Good       ┆ … ┆ 36         ┆ Good       ┆ 50.9833 ┆ 3.5333    │\n",
      "│ Haiti      ┆ Delmas ┆ 124       ┆ Unhealthy  ┆ … ┆ 124        ┆ Unhealthy  ┆ 18.55   ┆ -72.3     │\n",
      "│            ┆        ┆           ┆ for        ┆   ┆            ┆ for        ┆         ┆           │\n",
      "│            ┆        ┆           ┆ Sensitive  ┆   ┆            ┆ Sensitive  ┆         ┆           │\n",
      "│            ┆        ┆           ┆ Groups     ┆   ┆            ┆ Groups     ┆         ┆           │\n",
      "│ United     ┆ Deming ┆ 72        ┆ Moderate   ┆ … ┆ 72         ┆ Moderate   ┆ 32.2631 ┆ -107.7525 │\n",
      "│ States of  ┆        ┆           ┆            ┆   ┆            ┆            ┆         ┆           │\n",
      "│ America    ┆        ┆           ┆            ┆   ┆            ┆            ┆         ┆           │\n",
      "│ United     ┆ Denton ┆ 55        ┆ Moderate   ┆ … ┆ 55         ┆ Moderate   ┆ 33.2175 ┆ -97.1418  │\n",
      "│ Kingdom of ┆        ┆           ┆            ┆   ┆            ┆            ┆         ┆           │\n",
      "│ Great      ┆        ┆           ┆            ┆   ┆            ┆            ┆         ┆           │\n",
      "│ Britain …  ┆        ┆           ┆            ┆   ┆            ┆            ┆         ┆           │\n",
      "└────────────┴────────┴───────────┴────────────┴───┴────────────┴────────────┴─────────┴───────────┘\n"
     ]
    }
   ],
   "source": [
    "# View the top 10 rows of our df\n",
    "print(df[33:40])"
   ]
  },
  {
   "cell_type": "code",
   "execution_count": 9,
   "metadata": {},
   "outputs": [
    {
     "name": "stdout",
     "output_type": "stream",
     "text": [
      "COLUMN: Country  -> DATATYPE : String\n",
      "COLUMN: City  -> DATATYPE : String\n",
      "COLUMN: AQI Value  -> DATATYPE : Int64\n",
      "COLUMN: AQI Category  -> DATATYPE : String\n",
      "COLUMN: CO AQI Value  -> DATATYPE : Int64\n",
      "COLUMN: CO AQI Category  -> DATATYPE : String\n",
      "COLUMN: Ozone AQI Value  -> DATATYPE : Int64\n",
      "COLUMN: Ozone AQI Category  -> DATATYPE : String\n",
      "COLUMN: NO2 AQI Value  -> DATATYPE : Int64\n",
      "COLUMN: NO2 AQI Category  -> DATATYPE : String\n",
      "COLUMN: PM2.5 AQI Value  -> DATATYPE : Int64\n",
      "COLUMN: PM2.5 AQI Category  -> DATATYPE : String\n",
      "COLUMN: lat  -> DATATYPE : Float64\n",
      "COLUMN: lng  -> DATATYPE : Float64\n"
     ]
    }
   ],
   "source": [
    "# check the data types of each column\n",
    "for col, dtype in zip(df.columns, df.dtypes):\n",
    "    print(f\"COLUMN: {col}  -> DATATYPE : {dtype}\")"
   ]
  },
  {
   "cell_type": "code",
   "execution_count": 10,
   "metadata": {},
   "outputs": [
    {
     "data": {
      "text/html": [
       "<div><style>\n",
       ".dataframe > thead > tr,\n",
       ".dataframe > tbody > tr {\n",
       "  text-align: right;\n",
       "  white-space: pre-wrap;\n",
       "}\n",
       "</style>\n",
       "<small>shape: (9, 15)</small><table border=\"1\" class=\"dataframe\"><thead><tr><th>statistic</th><th>Country</th><th>City</th><th>AQI Value</th><th>AQI Category</th><th>CO AQI Value</th><th>CO AQI Category</th><th>Ozone AQI Value</th><th>Ozone AQI Category</th><th>NO2 AQI Value</th><th>NO2 AQI Category</th><th>PM2.5 AQI Value</th><th>PM2.5 AQI Category</th><th>lat</th><th>lng</th></tr><tr><td>str</td><td>str</td><td>str</td><td>f64</td><td>str</td><td>f64</td><td>str</td><td>f64</td><td>str</td><td>f64</td><td>str</td><td>f64</td><td>str</td><td>f64</td><td>f64</td></tr></thead><tbody><tr><td>&quot;count&quot;</td><td>&quot;16393&quot;</td><td>&quot;16695&quot;</td><td>16695.0</td><td>&quot;16695&quot;</td><td>16695.0</td><td>&quot;16695&quot;</td><td>16695.0</td><td>&quot;16695&quot;</td><td>16695.0</td><td>&quot;16695&quot;</td><td>16695.0</td><td>&quot;16695&quot;</td><td>16695.0</td><td>16695.0</td></tr><tr><td>&quot;null_count&quot;</td><td>&quot;302&quot;</td><td>&quot;0&quot;</td><td>0.0</td><td>&quot;0&quot;</td><td>0.0</td><td>&quot;0&quot;</td><td>0.0</td><td>&quot;0&quot;</td><td>0.0</td><td>&quot;0&quot;</td><td>0.0</td><td>&quot;0&quot;</td><td>0.0</td><td>0.0</td></tr><tr><td>&quot;mean&quot;</td><td>null</td><td>null</td><td>62.998682</td><td>null</td><td>1.342138</td><td>null</td><td>31.767355</td><td>null</td><td>3.819647</td><td>null</td><td>59.821324</td><td>null</td><td>30.267148</td><td>-3.944485</td></tr><tr><td>&quot;std&quot;</td><td>null</td><td>null</td><td>43.091971</td><td>null</td><td>2.371379</td><td>null</td><td>22.839343</td><td>null</td><td>5.880677</td><td>null</td><td>43.208298</td><td>null</td><td>22.947398</td><td>73.037148</td></tr><tr><td>&quot;min&quot;</td><td>&quot;Afghanistan&quot;</td><td>&quot;Aabenraa&quot;</td><td>7.0</td><td>&quot;Good&quot;</td><td>0.0</td><td>&quot;Good&quot;</td><td>0.0</td><td>&quot;Good&quot;</td><td>0.0</td><td>&quot;Good&quot;</td><td>0.0</td><td>&quot;Good&quot;</td><td>-54.8019</td><td>-171.75</td></tr><tr><td>&quot;25%&quot;</td><td>null</td><td>null</td><td>39.0</td><td>null</td><td>1.0</td><td>null</td><td>20.0</td><td>null</td><td>0.0</td><td>null</td><td>34.0</td><td>null</td><td>16.5167</td><td>-75.1779</td></tr><tr><td>&quot;50%&quot;</td><td>null</td><td>null</td><td>52.0</td><td>null</td><td>1.0</td><td>null</td><td>29.0</td><td>null</td><td>2.0</td><td>null</td><td>52.0</td><td>null</td><td>38.8158</td><td>5.6431</td></tr><tr><td>&quot;75%&quot;</td><td>null</td><td>null</td><td>69.0</td><td>null</td><td>1.0</td><td>null</td><td>38.0</td><td>null</td><td>5.0</td><td>null</td><td>69.0</td><td>null</td><td>46.6833</td><td>36.2833</td></tr><tr><td>&quot;max&quot;</td><td>&quot;Zimbabwe&quot;</td><td>&quot;Zyryanovsk&quot;</td><td>500.0</td><td>&quot;Very Unhealthy…</td><td>133.0</td><td>&quot;Unhealthy for …</td><td>222.0</td><td>&quot;Very Unhealthy…</td><td>91.0</td><td>&quot;Moderate&quot;</td><td>500.0</td><td>&quot;Very Unhealthy…</td><td>70.767</td><td>178.0178</td></tr></tbody></table></div>"
      ],
      "text/plain": [
       "shape: (9, 15)\n",
       "┌───────────┬───────────┬───────────┬───────────┬───┬───────────┬───────────┬───────────┬──────────┐\n",
       "│ statistic ┆ Country   ┆ City      ┆ AQI Value ┆ … ┆ PM2.5 AQI ┆ PM2.5 AQI ┆ lat       ┆ lng      │\n",
       "│ ---       ┆ ---       ┆ ---       ┆ ---       ┆   ┆ Value     ┆ Category  ┆ ---       ┆ ---      │\n",
       "│ str       ┆ str       ┆ str       ┆ f64       ┆   ┆ ---       ┆ ---       ┆ f64       ┆ f64      │\n",
       "│           ┆           ┆           ┆           ┆   ┆ f64       ┆ str       ┆           ┆          │\n",
       "╞═══════════╪═══════════╪═══════════╪═══════════╪═══╪═══════════╪═══════════╪═══════════╪══════════╡\n",
       "│ count     ┆ 16393     ┆ 16695     ┆ 16695.0   ┆ … ┆ 16695.0   ┆ 16695     ┆ 16695.0   ┆ 16695.0  │\n",
       "│ null_coun ┆ 302       ┆ 0         ┆ 0.0       ┆ … ┆ 0.0       ┆ 0         ┆ 0.0       ┆ 0.0      │\n",
       "│ t         ┆           ┆           ┆           ┆   ┆           ┆           ┆           ┆          │\n",
       "│ mean      ┆ null      ┆ null      ┆ 62.998682 ┆ … ┆ 59.821324 ┆ null      ┆ 30.267148 ┆ -3.94448 │\n",
       "│           ┆           ┆           ┆           ┆   ┆           ┆           ┆           ┆ 5        │\n",
       "│ std       ┆ null      ┆ null      ┆ 43.091971 ┆ … ┆ 43.208298 ┆ null      ┆ 22.947398 ┆ 73.03714 │\n",
       "│           ┆           ┆           ┆           ┆   ┆           ┆           ┆           ┆ 8        │\n",
       "│ min       ┆ Afghanist ┆ Aabenraa  ┆ 7.0       ┆ … ┆ 0.0       ┆ Good      ┆ -54.8019  ┆ -171.75  │\n",
       "│           ┆ an        ┆           ┆           ┆   ┆           ┆           ┆           ┆          │\n",
       "│ 25%       ┆ null      ┆ null      ┆ 39.0      ┆ … ┆ 34.0      ┆ null      ┆ 16.5167   ┆ -75.1779 │\n",
       "│ 50%       ┆ null      ┆ null      ┆ 52.0      ┆ … ┆ 52.0      ┆ null      ┆ 38.8158   ┆ 5.6431   │\n",
       "│ 75%       ┆ null      ┆ null      ┆ 69.0      ┆ … ┆ 69.0      ┆ null      ┆ 46.6833   ┆ 36.2833  │\n",
       "│ max       ┆ Zimbabwe  ┆ Zyryanovs ┆ 500.0     ┆ … ┆ 500.0     ┆ Very      ┆ 70.767    ┆ 178.0178 │\n",
       "│           ┆           ┆ k         ┆           ┆   ┆           ┆ Unhealthy ┆           ┆          │\n",
       "└───────────┴───────────┴───────────┴───────────┴───┴───────────┴───────────┴───────────┴──────────┘"
      ]
     },
     "execution_count": 10,
     "metadata": {},
     "output_type": "execute_result"
    }
   ],
   "source": [
    "# get general information about the data\n",
    "df.describe()"
   ]
  },
  {
   "cell_type": "code",
   "execution_count": 11,
   "metadata": {},
   "outputs": [
    {
     "data": {
      "text/html": [
       "<div><style>\n",
       ".dataframe > thead > tr,\n",
       ".dataframe > tbody > tr {\n",
       "  text-align: right;\n",
       "  white-space: pre-wrap;\n",
       "}\n",
       "</style>\n",
       "<small>shape: (1, 14)</small><table border=\"1\" class=\"dataframe\"><thead><tr><th>Country</th><th>City</th><th>AQI Value</th><th>AQI Category</th><th>CO AQI Value</th><th>CO AQI Category</th><th>Ozone AQI Value</th><th>Ozone AQI Category</th><th>NO2 AQI Value</th><th>NO2 AQI Category</th><th>PM2.5 AQI Value</th><th>PM2.5 AQI Category</th><th>lat</th><th>lng</th></tr><tr><td>u32</td><td>u32</td><td>u32</td><td>u32</td><td>u32</td><td>u32</td><td>u32</td><td>u32</td><td>u32</td><td>u32</td><td>u32</td><td>u32</td><td>u32</td><td>u32</td></tr></thead><tbody><tr><td>302</td><td>0</td><td>0</td><td>0</td><td>0</td><td>0</td><td>0</td><td>0</td><td>0</td><td>0</td><td>0</td><td>0</td><td>0</td><td>0</td></tr></tbody></table></div>"
      ],
      "text/plain": [
       "shape: (1, 14)\n",
       "┌─────────┬──────┬───────────┬──────────────┬───┬─────────────────┬────────────────────┬─────┬─────┐\n",
       "│ Country ┆ City ┆ AQI Value ┆ AQI Category ┆ … ┆ PM2.5 AQI Value ┆ PM2.5 AQI Category ┆ lat ┆ lng │\n",
       "│ ---     ┆ ---  ┆ ---       ┆ ---          ┆   ┆ ---             ┆ ---                ┆ --- ┆ --- │\n",
       "│ u32     ┆ u32  ┆ u32       ┆ u32          ┆   ┆ u32             ┆ u32                ┆ u32 ┆ u32 │\n",
       "╞═════════╪══════╪═══════════╪══════════════╪═══╪═════════════════╪════════════════════╪═════╪═════╡\n",
       "│ 302     ┆ 0    ┆ 0         ┆ 0            ┆ … ┆ 0               ┆ 0                  ┆ 0   ┆ 0   │\n",
       "└─────────┴──────┴───────────┴──────────────┴───┴─────────────────┴────────────────────┴─────┴─────┘"
      ]
     },
     "execution_count": 11,
     "metadata": {},
     "output_type": "execute_result"
    }
   ],
   "source": [
    "df.null_count()\n",
    "# we have no missing values youpii :)"
   ]
  },
  {
   "cell_type": "code",
   "execution_count": 12,
   "metadata": {},
   "outputs": [
    {
     "data": {
      "text/plain": [
       "0"
      ]
     },
     "execution_count": 12,
     "metadata": {},
     "output_type": "execute_result"
    }
   ],
   "source": [
    "df.is_duplicated().sum()"
   ]
  },
  {
   "cell_type": "code",
   "execution_count": 13,
   "metadata": {},
   "outputs": [
    {
     "data": {
      "text/plain": [
       "(14229, 14)"
      ]
     },
     "execution_count": 13,
     "metadata": {},
     "output_type": "execute_result"
    }
   ],
   "source": [
    "df = df.unique(subset=[\"City\"])\n",
    "df.shape"
   ]
  },
  {
   "cell_type": "code",
   "execution_count": 14,
   "metadata": {},
   "outputs": [
    {
     "name": "stdout",
     "output_type": "stream",
     "text": [
      "shape: (175, 2)\n",
      "┌────────────────────────────┬───────┐\n",
      "│ Country                    ┆ count │\n",
      "│ ---                        ┆ ---   │\n",
      "│ str                        ┆ u32   │\n",
      "╞════════════════════════════╪═══════╡\n",
      "│ Luxembourg                 ┆ 1     │\n",
      "│ Ireland                    ┆ 25    │\n",
      "│ Cameroon                   ┆ 37    │\n",
      "│ Solomon Islands            ┆ 1     │\n",
      "│ Hungary                    ┆ 46    │\n",
      "│ …                          ┆ …     │\n",
      "│ Saint Kitts and Nevis      ┆ 1     │\n",
      "│ Iran (Islamic Republic of) ┆ 29    │\n",
      "│ Montenegro                 ┆ 3     │\n",
      "│ Ukraine                    ┆ 144   │\n",
      "│ Finland                    ┆ 64    │\n",
      "└────────────────────────────┴───────┘\n",
      "shape: (14_229, 2)\n",
      "┌─────────────┬───────┐\n",
      "│ City        ┆ count │\n",
      "│ ---         ┆ ---   │\n",
      "│ str         ┆ u32   │\n",
      "╞═════════════╪═══════╡\n",
      "│ Geldern     ┆ 1     │\n",
      "│ Veracruz    ┆ 1     │\n",
      "│ Fontana     ┆ 1     │\n",
      "│ Borodino    ┆ 1     │\n",
      "│ Orillia     ┆ 1     │\n",
      "│ …           ┆ …     │\n",
      "│ Moussoro    ┆ 1     │\n",
      "│ Schertz     ┆ 1     │\n",
      "│ Vernouillet ┆ 1     │\n",
      "│ Itapeva     ┆ 1     │\n",
      "│ Astorga     ┆ 1     │\n",
      "└─────────────┴───────┘\n",
      "shape: (282, 2)\n",
      "┌───────────┬───────┐\n",
      "│ AQI Value ┆ count │\n",
      "│ ---       ┆ ---   │\n",
      "│ i64       ┆ u32   │\n",
      "╞═══════════╪═══════╡\n",
      "│ 49        ┆ 177   │\n",
      "│ 240       ┆ 2     │\n",
      "│ 283       ┆ 1     │\n",
      "│ 31        ┆ 236   │\n",
      "│ 97        ┆ 36    │\n",
      "│ …         ┆ …     │\n",
      "│ 18        ┆ 43    │\n",
      "│ 113       ┆ 18    │\n",
      "│ 104       ┆ 19    │\n",
      "│ 234       ┆ 1     │\n",
      "│ 29        ┆ 184   │\n",
      "└───────────┴───────┘\n",
      "shape: (6, 2)\n",
      "┌────────────────────────────────┬───────┐\n",
      "│ AQI Category                   ┆ count │\n",
      "│ ---                            ┆ ---   │\n",
      "│ str                            ┆ u32   │\n",
      "╞════════════════════════════════╪═══════╡\n",
      "│ Good                           ┆ 6670  │\n",
      "│ Unhealthy                      ┆ 773   │\n",
      "│ Moderate                       ┆ 5872  │\n",
      "│ Very Unhealthy                 ┆ 120   │\n",
      "│ Unhealthy for Sensitive Groups ┆ 745   │\n",
      "│ Hazardous                      ┆ 49    │\n",
      "└────────────────────────────────┴───────┘\n",
      "shape: (31, 2)\n",
      "┌──────────────┬───────┐\n",
      "│ CO AQI Value ┆ count │\n",
      "│ ---          ┆ ---   │\n",
      "│ i64          ┆ u32   │\n",
      "╞══════════════╪═══════╡\n",
      "│ 11           ┆ 14    │\n",
      "│ 8            ┆ 18    │\n",
      "│ 6            ┆ 45    │\n",
      "│ 10           ┆ 12    │\n",
      "│ 28           ┆ 2     │\n",
      "│ …            ┆ …     │\n",
      "│ 9            ┆ 18    │\n",
      "│ 41           ┆ 1     │\n",
      "│ 23           ┆ 2     │\n",
      "│ 5            ┆ 116   │\n",
      "│ 20           ┆ 2     │\n",
      "└──────────────┴───────┘\n",
      "shape: (3, 2)\n",
      "┌────────────────────────────────┬───────┐\n",
      "│ CO AQI Category                ┆ count │\n",
      "│ ---                            ┆ ---   │\n",
      "│ str                            ┆ u32   │\n",
      "╞════════════════════════════════╪═══════╡\n",
      "│ Moderate                       ┆ 1     │\n",
      "│ Unhealthy for Sensitive Groups ┆ 1     │\n",
      "│ Good                           ┆ 14227 │\n",
      "└────────────────────────────────┴───────┘\n",
      "shape: (203, 2)\n",
      "┌─────────────────┬───────┐\n",
      "│ Ozone AQI Value ┆ count │\n",
      "│ ---             ┆ ---   │\n",
      "│ i64             ┆ u32   │\n",
      "╞═════════════════╪═══════╡\n",
      "│ 19              ┆ 264   │\n",
      "│ 22              ┆ 325   │\n",
      "│ 48              ┆ 140   │\n",
      "│ 96              ┆ 7     │\n",
      "│ 3               ┆ 89    │\n",
      "│ …               ┆ …     │\n",
      "│ 178             ┆ 4     │\n",
      "│ 105             ┆ 2     │\n",
      "│ 153             ┆ 1     │\n",
      "│ 33              ┆ 448   │\n",
      "│ 47              ┆ 153   │\n",
      "└─────────────────┴───────┘\n",
      "shape: (5, 2)\n",
      "┌────────────────────────────────┬───────┐\n",
      "│ Ozone AQI Category             ┆ count │\n",
      "│ ---                            ┆ ---   │\n",
      "│ str                            ┆ u32   │\n",
      "╞════════════════════════════════╪═══════╡\n",
      "│ Moderate                       ┆ 743   │\n",
      "│ Unhealthy                      ┆ 146   │\n",
      "│ Good                           ┆ 13159 │\n",
      "│ Unhealthy for Sensitive Groups ┆ 157   │\n",
      "│ Very Unhealthy                 ┆ 24    │\n",
      "└────────────────────────────────┴───────┘\n",
      "shape: (56, 2)\n",
      "┌───────────────┬───────┐\n",
      "│ NO2 AQI Value ┆ count │\n",
      "│ ---           ┆ ---   │\n",
      "│ i64           ┆ u32   │\n",
      "╞═══════════════╪═══════╡\n",
      "│ 38            ┆ 2     │\n",
      "│ 18            ┆ 74    │\n",
      "│ 37            ┆ 4     │\n",
      "│ 91            ┆ 1     │\n",
      "│ 43            ┆ 1     │\n",
      "│ …             ┆ …     │\n",
      "│ 40            ┆ 1     │\n",
      "│ 27            ┆ 18    │\n",
      "│ 69            ┆ 1     │\n",
      "│ 23            ┆ 30    │\n",
      "│ 16            ┆ 59    │\n",
      "└───────────────┴───────┘\n",
      "shape: (2, 2)\n",
      "┌──────────────────┬───────┐\n",
      "│ NO2 AQI Category ┆ count │\n",
      "│ ---              ┆ ---   │\n",
      "│ str              ┆ u32   │\n",
      "╞══════════════════╪═══════╡\n",
      "│ Moderate         ┆ 9     │\n",
      "│ Good             ┆ 14220 │\n",
      "└──────────────────┴───────┘\n",
      "shape: (298, 2)\n",
      "┌─────────────────┬───────┐\n",
      "│ PM2.5 AQI Value ┆ count │\n",
      "│ ---             ┆ ---   │\n",
      "│ i64             ┆ u32   │\n",
      "╞═════════════════╪═══════╡\n",
      "│ 109             ┆ 16    │\n",
      "│ 124             ┆ 18    │\n",
      "│ 31              ┆ 192   │\n",
      "│ 234             ┆ 1     │\n",
      "│ 101             ┆ 27    │\n",
      "│ …               ┆ …     │\n",
      "│ 192             ┆ 5     │\n",
      "│ 433             ┆ 1     │\n",
      "│ 28              ┆ 188   │\n",
      "│ 21              ┆ 136   │\n",
      "│ 6               ┆ 17    │\n",
      "└─────────────────┴───────┘\n",
      "shape: (6, 2)\n",
      "┌────────────────────────────────┬───────┐\n",
      "│ PM2.5 AQI Category             ┆ count │\n",
      "│ ---                            ┆ ---   │\n",
      "│ str                            ┆ u32   │\n",
      "╞════════════════════════════════╪═══════╡\n",
      "│ Unhealthy for Sensitive Groups ┆ 756   │\n",
      "│ Good                           ┆ 6871  │\n",
      "│ Very Unhealthy                 ┆ 102   │\n",
      "│ Hazardous                      ┆ 43    │\n",
      "│ Unhealthy                      ┆ 734   │\n",
      "│ Moderate                       ┆ 5723  │\n",
      "└────────────────────────────────┴───────┘\n",
      "shape: (11_959, 2)\n",
      "┌──────────┬───────┐\n",
      "│ lat      ┆ count │\n",
      "│ ---      ┆ ---   │\n",
      "│ f64      ┆ u32   │\n",
      "╞══════════╪═══════╡\n",
      "│ 41.8072  ┆ 1     │\n",
      "│ 41.6362  ┆ 1     │\n",
      "│ 5.9739   ┆ 1     │\n",
      "│ -27.0333 ┆ 1     │\n",
      "│ -22.4739 ┆ 1     │\n",
      "│ …        ┆ …     │\n",
      "│ 60.3764  ┆ 1     │\n",
      "│ 18.15    ┆ 1     │\n",
      "│ 41.3411  ┆ 1     │\n",
      "│ -19.9    ┆ 1     │\n",
      "│ 43.1962  ┆ 1     │\n",
      "└──────────┴───────┘\n",
      "shape: (12_628, 2)\n",
      "┌──────────┬───────┐\n",
      "│ lng      ┆ count │\n",
      "│ ---      ┆ ---   │\n",
      "│ f64      ┆ u32   │\n",
      "╞══════════╪═══════╡\n",
      "│ 8.0097   ┆ 1     │\n",
      "│ 15.7333  ┆ 3     │\n",
      "│ -94.3515 ┆ 1     │\n",
      "│ 143.2    ┆ 2     │\n",
      "│ -0.1758  ┆ 1     │\n",
      "│ …        ┆ …     │\n",
      "│ 41.9458  ┆ 1     │\n",
      "│ 3.071    ┆ 1     │\n",
      "│ 85.5204  ┆ 1     │\n",
      "│ 37.7972  ┆ 1     │\n",
      "│ 11.1894  ┆ 1     │\n",
      "└──────────┴───────┘\n"
     ]
    }
   ],
   "source": [
    "for col in df.columns:\n",
    "    print(df[col].value_counts())"
   ]
  },
  {
   "cell_type": "code",
   "execution_count": 15,
   "metadata": {},
   "outputs": [
    {
     "data": {
      "text/html": [
       "<div><style>\n",
       ".dataframe > thead > tr,\n",
       ".dataframe > tbody > tr {\n",
       "  text-align: right;\n",
       "  white-space: pre-wrap;\n",
       "}\n",
       "</style>\n",
       "<small>shape: (6, 3)</small><table border=\"1\" class=\"dataframe\"><thead><tr><th>Country</th><th>City</th><th>AQI Value</th></tr><tr><td>str</td><td>str</td><td>i64</td></tr></thead><tbody><tr><td>&quot;Ecuador&quot;</td><td>&quot;Macas&quot;</td><td>7</td></tr><tr><td>&quot;Papua New Guin…</td><td>&quot;Tari&quot;</td><td>8</td></tr><tr><td>&quot;Ecuador&quot;</td><td>&quot;Azogues&quot;</td><td>8</td></tr><tr><td>&quot;Peru&quot;</td><td>&quot;Huaraz&quot;</td><td>9</td></tr><tr><td>&quot;Indonesia&quot;</td><td>&quot;Manokwari&quot;</td><td>10</td></tr><tr><td>&quot;Peru&quot;</td><td>&quot;Huancavelica&quot;</td><td>10</td></tr></tbody></table></div>"
      ],
      "text/plain": [
       "shape: (6, 3)\n",
       "┌──────────────────┬──────────────┬───────────┐\n",
       "│ Country          ┆ City         ┆ AQI Value │\n",
       "│ ---              ┆ ---          ┆ ---       │\n",
       "│ str              ┆ str          ┆ i64       │\n",
       "╞══════════════════╪══════════════╪═══════════╡\n",
       "│ Ecuador          ┆ Macas        ┆ 7         │\n",
       "│ Papua New Guinea ┆ Tari         ┆ 8         │\n",
       "│ Ecuador          ┆ Azogues      ┆ 8         │\n",
       "│ Peru             ┆ Huaraz       ┆ 9         │\n",
       "│ Indonesia        ┆ Manokwari    ┆ 10        │\n",
       "│ Peru             ┆ Huancavelica ┆ 10        │\n",
       "└──────────────────┴──────────────┴───────────┘"
      ]
     },
     "execution_count": 15,
     "metadata": {},
     "output_type": "execute_result"
    }
   ],
   "source": [
    "# Let's see the top 5 dirtiest cities\n",
    "sorted_df = df.sort(by=\"AQI Value\")\n",
    "sorted_df[[\"Country\", \"City\", \"AQI Value\"]][:6]"
   ]
  },
  {
   "cell_type": "code",
   "execution_count": 16,
   "metadata": {},
   "outputs": [
    {
     "data": {
      "text/html": [
       "<div><style>\n",
       ".dataframe > thead > tr,\n",
       ".dataframe > tbody > tr {\n",
       "  text-align: right;\n",
       "  white-space: pre-wrap;\n",
       "}\n",
       "</style>\n",
       "<small>shape: (6, 3)</small><table border=\"1\" class=\"dataframe\"><thead><tr><th>Country</th><th>City</th><th>AQI Value</th></tr><tr><td>str</td><td>str</td><td>i64</td></tr></thead><tbody><tr><td>&quot;India&quot;</td><td>&quot;Delhi&quot;</td><td>500</td></tr><tr><td>&quot;India&quot;</td><td>&quot;Phalodi&quot;</td><td>500</td></tr><tr><td>&quot;India&quot;</td><td>&quot;Mahendragarh&quot;</td><td>500</td></tr><tr><td>&quot;India&quot;</td><td>&quot;Dhanaura&quot;</td><td>500</td></tr><tr><td>&quot;India&quot;</td><td>&quot;Ratangarh&quot;</td><td>500</td></tr><tr><td>&quot;India&quot;</td><td>&quot;Sardulgarh&quot;</td><td>500</td></tr></tbody></table></div>"
      ],
      "text/plain": [
       "shape: (6, 3)\n",
       "┌─────────┬──────────────┬───────────┐\n",
       "│ Country ┆ City         ┆ AQI Value │\n",
       "│ ---     ┆ ---          ┆ ---       │\n",
       "│ str     ┆ str          ┆ i64       │\n",
       "╞═════════╪══════════════╪═══════════╡\n",
       "│ India   ┆ Delhi        ┆ 500       │\n",
       "│ India   ┆ Phalodi      ┆ 500       │\n",
       "│ India   ┆ Mahendragarh ┆ 500       │\n",
       "│ India   ┆ Dhanaura     ┆ 500       │\n",
       "│ India   ┆ Ratangarh    ┆ 500       │\n",
       "│ India   ┆ Sardulgarh   ┆ 500       │\n",
       "└─────────┴──────────────┴───────────┘"
      ]
     },
     "execution_count": 16,
     "metadata": {},
     "output_type": "execute_result"
    }
   ],
   "source": [
    "# Let's see the top 5 cleanest cities\n",
    "sorted_df = df.sort(by=\"AQI Value\")\n",
    "sorted_df.tail(6)[[\"Country\", \"City\", \"AQI Value\"]]"
   ]
  },
  {
   "cell_type": "code",
   "execution_count": 17,
   "metadata": {},
   "outputs": [
    {
     "name": "stdout",
     "output_type": "stream",
     "text": [
      "Defaulting to user installation because normal site-packages is not writeable\n",
      "Requirement already satisfied: seaborn in /home/wissem/.local/lib/python3.10/site-packages (0.13.2)\n",
      "Requirement already satisfied: numpy!=1.24.0,>=1.20 in /home/wissem/.local/lib/python3.10/site-packages (from seaborn) (1.26.4)\n",
      "Requirement already satisfied: pandas>=1.2 in /home/wissem/.local/lib/python3.10/site-packages (from seaborn) (2.2.1)\n",
      "Requirement already satisfied: matplotlib!=3.6.1,>=3.4 in /home/wissem/.local/lib/python3.10/site-packages (from seaborn) (3.8.3)\n",
      "Requirement already satisfied: cycler>=0.10 in /home/wissem/.local/lib/python3.10/site-packages (from matplotlib!=3.6.1,>=3.4->seaborn) (0.12.1)\n",
      "Requirement already satisfied: pyparsing>=2.3.1 in /usr/lib/python3/dist-packages (from matplotlib!=3.6.1,>=3.4->seaborn) (2.4.7)\n",
      "Requirement already satisfied: pillow>=8 in /usr/lib/python3/dist-packages (from matplotlib!=3.6.1,>=3.4->seaborn) (9.0.1)\n",
      "Requirement already satisfied: python-dateutil>=2.7 in /home/wissem/.local/lib/python3.10/site-packages (from matplotlib!=3.6.1,>=3.4->seaborn) (2.9.0.post0)\n",
      "Requirement already satisfied: kiwisolver>=1.3.1 in /home/wissem/.local/lib/python3.10/site-packages (from matplotlib!=3.6.1,>=3.4->seaborn) (1.4.5)\n",
      "Requirement already satisfied: contourpy>=1.0.1 in /home/wissem/.local/lib/python3.10/site-packages (from matplotlib!=3.6.1,>=3.4->seaborn) (1.2.0)\n",
      "Requirement already satisfied: fonttools>=4.22.0 in /home/wissem/.local/lib/python3.10/site-packages (from matplotlib!=3.6.1,>=3.4->seaborn) (4.50.0)\n",
      "Requirement already satisfied: packaging>=20.0 in /home/wissem/.local/lib/python3.10/site-packages (from matplotlib!=3.6.1,>=3.4->seaborn) (24.0)\n",
      "Requirement already satisfied: tzdata>=2022.7 in /home/wissem/.local/lib/python3.10/site-packages (from pandas>=1.2->seaborn) (2024.1)\n",
      "Requirement already satisfied: pytz>=2020.1 in /usr/lib/python3/dist-packages (from pandas>=1.2->seaborn) (2022.1)\n",
      "Requirement already satisfied: six>=1.5 in /usr/lib/python3/dist-packages (from python-dateutil>=2.7->matplotlib!=3.6.1,>=3.4->seaborn) (1.16.0)\n",
      "Note: you may need to restart the kernel to use updated packages.\n",
      "Defaulting to user installation because normal site-packages is not writeable\n",
      "Requirement already satisfied: pyarrow in /home/wissem/.local/lib/python3.10/site-packages (15.0.2)\n",
      "Requirement already satisfied: numpy<2,>=1.16.6 in /home/wissem/.local/lib/python3.10/site-packages (from pyarrow) (1.26.4)\n"
     ]
    }
   ],
   "source": [
    "%pip install seaborn\n",
    "%pip install pyarrow"
   ]
  },
  {
   "cell_type": "code",
   "execution_count": null,
   "metadata": {},
   "outputs": [],
   "source": []
  },
  {
   "cell_type": "code",
   "execution_count": null,
   "metadata": {},
   "outputs": [],
   "source": []
  },
  {
   "cell_type": "code",
   "execution_count": null,
   "metadata": {},
   "outputs": [],
   "source": []
  },
  {
   "cell_type": "code",
   "execution_count": null,
   "metadata": {},
   "outputs": [],
   "source": []
  }
 ],
 "metadata": {
  "kernelspec": {
   "display_name": "Python 3",
   "language": "python",
   "name": "python3"
  },
  "language_info": {
   "codemirror_mode": {
    "name": "ipython",
    "version": 3
   },
   "file_extension": ".py",
   "mimetype": "text/x-python",
   "name": "python",
   "nbconvert_exporter": "python",
   "pygments_lexer": "ipython3",
   "version": "3.10.12"
  }
 },
 "nbformat": 4,
 "nbformat_minor": 2
}
